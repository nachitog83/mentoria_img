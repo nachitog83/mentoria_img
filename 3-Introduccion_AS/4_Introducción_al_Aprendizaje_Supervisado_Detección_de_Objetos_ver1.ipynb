{
  "nbformat": 4,
  "nbformat_minor": 0,
  "metadata": {
    "kernelspec": {
      "display_name": "Python 3",
      "language": "python",
      "name": "python3"
    },
    "language_info": {
      "codemirror_mode": {
        "name": "ipython",
        "version": 3
      },
      "file_extension": ".py",
      "mimetype": "text/x-python",
      "name": "python",
      "nbconvert_exporter": "python",
      "pygments_lexer": "ipython3",
      "version": "3.7.6"
    },
    "colab": {
      "name": "4-Introducción al Aprendizaje_Supervisado-Detección_de_Objetos.ipynb",
      "provenance": [],
      "collapsed_sections": [],
      "toc_visible": true,
      "include_colab_link": true
    }
  },
  "cells": [
    {
      "cell_type": "markdown",
      "metadata": {
        "id": "view-in-github",
        "colab_type": "text"
      },
      "source": [
        "<a href=\"https://colab.research.google.com/github/nachitog83/mentoria_img/blob/master/3-Introduccion_AS/4_Introducci%C3%B3n_al_Aprendizaje_Supervisado_Detecci%C3%B3n_de_Objetos_ver1.ipynb\" target=\"_parent\"><img src=\"https://colab.research.google.com/assets/colab-badge.svg\" alt=\"Open In Colab\"/></a>"
      ]
    },
    {
      "cell_type": "markdown",
      "metadata": {
        "id": "d_u_OLIYQxHd"
      },
      "source": [
        "\n",
        "<center>\n",
        "<h4>Universidad Nacional de Córdoba - Facultad de Matemática, Astronomía, Física y Computación </h4>\n",
        "<h3>Diplomatura en Ciencia de Datos, Aprendizaje Automático y sus Aplicaciones</h3>\n",
        "<h2>Mentoría: Detección de objetos en imágenes</h2>\n",
        "</center>\n"
      ]
    },
    {
      "cell_type": "markdown",
      "metadata": {
        "id": "2IqCQqvVHvO6"
      },
      "source": [
        "En la siguiente notebook, incorporaremos parte de lo realizado en las entregas de los grupos de estudiantes: \n",
        "\n",
        "* [Grupo 1](https://github.com/Ana1890/Deteccion-de-objetos-en-imagenes) : Ana Rusconi, Ignacio Grosso y  Mariano Lucero\n",
        "\n",
        "* [Grupo 2](https://github.com/leorodriguez/mentoria-diplodatos-grupo2):  Diego Gonzalez, Florencia Caballero, Joel Vivas y Leonardo Rodriguez\n"
      ]
    },
    {
      "cell_type": "markdown",
      "metadata": {
        "id": "57bZf_OMMLdh"
      },
      "source": [
        "<a name=\"aprendizaje_supervisado\"></a>\n",
        "### **Intro Aprendizaje Supervisado**\n",
        "\n",
        "En esta entrega seguiremos utilizando la carpeta [muestra](https://drive.google.com/drive/folders/1_2oDQPL7n8QI_YEUOecAHyabwA9Gmud0?usp=sharing).\n",
        "\n",
        "\n",
        "Repasaremos las técnicas aprendidas en la materia *'Introducción al Aprendizaje Automático'* tales como *regresión lineal y polinomial* con y sin regularización y para clasificación, implementaremos sólo los algoritmos de *Perceptrón, SGD y Árboles de Decisión*.\n"
      ]
    },
    {
      "cell_type": "markdown",
      "metadata": {
        "id": "akFzHcVSYD1M"
      },
      "source": [
        "\n",
        "\n",
        "\n",
        "**Estructura del informe:** \n",
        "\n",
        "Presentar en un archivo jupyter notebook con la resolución detallada de las siguientes consignas:\n",
        "\n",
        "\n",
        "  1- Recordar que en nuestro caso podemos realizar clasificación podemos hacer las dos clases de clasificación, binaria ( guantes: si - no) y multiclase ('mano', 'verde' y 'amarillo'). Por lo cual se pueden descartar aquellas columnas categóricas que no sumen al problema y definir como 'target' nuesta columna de interés.\n",
        "\n",
        "Visualizar la cantidad de datos para cada clase y calcular el porcentaje de las mismas.\n",
        " \n",
        "Separar la base en los conjuntos *P* y *G*. \n",
        "Y sobre cada conjunto, separar en *train* (con el 80 % de los datos y *test* con el 20%)\n",
        "\n",
        "\n",
        " \n",
        "  2- De las variables/características/features numéricas que hayan encontrado en notebooks anteriores, elegir como mucho las 5 mas representativas para:\n",
        "\n",
        "  *   Regresión:\n",
        "\n",
        "     a) Hacer una gráfica que muestre su relación con la variable objetivo. Instanciar una regresión lineal de scikit-learn, y entrenarla usando sólo el atributo seleccionado. Calcular el error cuadrático medio para los conjuntos de entrenamiento y evaluación y grafique el modelo resultante, junto con los puntos de entrenamiento y evaluación. Interpretar el resultado, haciendo algún comentario sobre las cualidades del modelo obtenido.  \n",
        "    \n",
        "     b) Tomar pares de características y considerar una como regresora y la otra como objetivo o variable/característica a predecir y realizar una regresión lineal y varias polinomiales (hasta grado 5) para evaluar el grado del polinomio que mejor se ajusta a las predicciones. \n",
        "    \n",
        "     c) Luego realizar la búsqueda de los mejores hiperparámetros utilizando GridSearchCV en el conjunto Train, con RMSE o análoga como medida de calidad de ajuste.\n",
        "     d) Una vez definidos los hiperparámetros (encontrados en la búsqueda del item anterior. Evaluar el modelo ajustado utilizando el conjunto Test, con la medida (o las medidas) que crea adecuada.\n",
        "\n",
        "\n",
        "  *   Clasificación:\n",
        "   De a pares de características, implementar los algoritmos de Perceptrón, SGD y Árboles de Decisión en el conjunto Train para clasificación binaria: guantes si - guantes no (algoritmos del paquete sklearn). Primero con los hiperparámetros por defecto y luego ir cambiándolos un poco.\n",
        "\n",
        "   Utilizar GridSearchCV para explorar las diferentes combinaciones de hiperparámetros. \n",
        "\n",
        " "
      ]
    },
    {
      "cell_type": "markdown",
      "metadata": {
        "id": "ddLhX1-R-ZHO"
      },
      "source": [
        "Usando como entorno a Colab:"
      ]
    },
    {
      "cell_type": "code",
      "metadata": {
        "id": "eI5MO4Ek-ctR",
        "outputId": "7cf8151b-0a61-4854-fbe9-ff73f2c2afeb",
        "colab": {
          "base_uri": "https://localhost:8080/",
          "height": 33
        }
      },
      "source": [
        "#vinculamos el Drive\n",
        "from google.colab import drive\n",
        "drive.mount('/content/drive')"
      ],
      "execution_count": 1,
      "outputs": [
        {
          "output_type": "stream",
          "text": [
            "Mounted at /content/drive\n"
          ],
          "name": "stdout"
        }
      ]
    },
    {
      "cell_type": "code",
      "metadata": {
        "id": "P78hPxhS-gZS"
      },
      "source": [
        "# librerías necesarias \n",
        "import os\n",
        "from os import path\n",
        "\n",
        "import pandas as pd\n",
        "import numpy as np\n",
        "\n",
        "import matplotlib.pyplot as plt\n",
        "import seaborn as sns\n",
        "\n",
        "#seguimos agregando librerías necesarias:\n",
        "from sklearn import preprocessing\n",
        "from sklearn.model_selection import train_test_split, GridSearchCV\n",
        "from sklearn.linear_model import LinearRegression\n",
        "from sklearn.metrics import accuracy_score, confusion_matrix, mean_squared_error\n",
        "from sklearn.pipeline import Pipeline\n",
        "from sklearn.preprocessing import PolynomialFeatures\n",
        "from sklearn.linear_model import LinearRegression\n",
        "from sklearn.model_selection import cross_val_score\n",
        "from sklearn.metrics import accuracy_score, confusion_matrix, mean_squared_error\n",
        "\n",
        "from sklearn.linear_model import Lasso, Ridge\n",
        "\n",
        "from sklearn.feature_selection import SelectKBest\n",
        "from sklearn.feature_selection import chi2\n",
        "from sklearn.preprocessing import LabelEncoder\n",
        "\n",
        "\n"
      ],
      "execution_count": 2,
      "outputs": []
    },
    {
      "cell_type": "markdown",
      "metadata": {
        "id": "SJMG6JjUwkgc"
      },
      "source": [
        "#### <a name=\"hay_tabla!\"></a>\n",
        "#### **Análisis exploratorio**"
      ]
    },
    {
      "cell_type": "code",
      "metadata": {
        "id": "dPbmNI7s9lF7",
        "outputId": "c608e4e4-4179-4153-b609-e1870cd3f4cd",
        "colab": {
          "base_uri": "https://localhost:8080/",
          "height": 33
        }
      },
      "source": [
        "#nos posicionamos en la carpeta muestra:\n",
        "os.chdir('/content/drive/My Drive/DiploDatos2020/Mentoria/muestra')\n",
        "! ls -d Dataset-*/"
      ],
      "execution_count": 3,
      "outputs": [
        {
          "output_type": "stream",
          "text": [
            "Dataset-M/  Dataset-N/\tDataset-T/\n"
          ],
          "name": "stdout"
        }
      ]
    },
    {
      "cell_type": "code",
      "metadata": {
        "id": "dk0d8VNdudFk",
        "outputId": "4712efe2-dd32-4728-b7c8-76c2df3f3fe4",
        "colab": {
          "base_uri": "https://localhost:8080/",
          "height": 255
        }
      },
      "source": [
        "#leemos el archivo de la tabla:\n",
        "csv_wlabels_df = pd.read_csv('csv_wlabels_muestra_df_original.csv', index_col=0)\n",
        "print(csv_wlabels_df.shape)\n",
        "csv_wlabels_df.head()"
      ],
      "execution_count": 53,
      "outputs": [
        {
          "output_type": "stream",
          "text": [
            "(1668, 2061)\n"
          ],
          "name": "stdout"
        },
        {
          "output_type": "execute_result",
          "data": {
            "text/html": [
              "<div>\n",
              "<style scoped>\n",
              "    .dataframe tbody tr th:only-of-type {\n",
              "        vertical-align: middle;\n",
              "    }\n",
              "\n",
              "    .dataframe tbody tr th {\n",
              "        vertical-align: top;\n",
              "    }\n",
              "\n",
              "    .dataframe thead th {\n",
              "        text-align: right;\n",
              "    }\n",
              "</style>\n",
              "<table border=\"1\" class=\"dataframe\">\n",
              "  <thead>\n",
              "    <tr style=\"text-align: right;\">\n",
              "      <th></th>\n",
              "      <th>filename</th>\n",
              "      <th>xmin</th>\n",
              "      <th>xmax</th>\n",
              "      <th>ymin</th>\n",
              "      <th>ymax</th>\n",
              "      <th>Time</th>\n",
              "      <th>Size</th>\n",
              "      <th>Type</th>\n",
              "      <th>Hand_Pixel_Width</th>\n",
              "      <th>Hand_Pixel_Height</th>\n",
              "      <th>Area</th>\n",
              "      <th>guantes</th>\n",
              "      <th>color</th>\n",
              "      <th>0</th>\n",
              "      <th>1</th>\n",
              "      <th>2</th>\n",
              "      <th>3</th>\n",
              "      <th>4</th>\n",
              "      <th>5</th>\n",
              "      <th>6</th>\n",
              "      <th>7</th>\n",
              "      <th>8</th>\n",
              "      <th>9</th>\n",
              "      <th>10</th>\n",
              "      <th>11</th>\n",
              "      <th>12</th>\n",
              "      <th>13</th>\n",
              "      <th>14</th>\n",
              "      <th>15</th>\n",
              "      <th>16</th>\n",
              "      <th>17</th>\n",
              "      <th>18</th>\n",
              "      <th>19</th>\n",
              "      <th>20</th>\n",
              "      <th>21</th>\n",
              "      <th>22</th>\n",
              "      <th>23</th>\n",
              "      <th>24</th>\n",
              "      <th>25</th>\n",
              "      <th>26</th>\n",
              "      <th>...</th>\n",
              "      <th>2008</th>\n",
              "      <th>2009</th>\n",
              "      <th>2010</th>\n",
              "      <th>2011</th>\n",
              "      <th>2012</th>\n",
              "      <th>2013</th>\n",
              "      <th>2014</th>\n",
              "      <th>2015</th>\n",
              "      <th>2016</th>\n",
              "      <th>2017</th>\n",
              "      <th>2018</th>\n",
              "      <th>2019</th>\n",
              "      <th>2020</th>\n",
              "      <th>2021</th>\n",
              "      <th>2022</th>\n",
              "      <th>2023</th>\n",
              "      <th>2024</th>\n",
              "      <th>2025</th>\n",
              "      <th>2026</th>\n",
              "      <th>2027</th>\n",
              "      <th>2028</th>\n",
              "      <th>2029</th>\n",
              "      <th>2030</th>\n",
              "      <th>2031</th>\n",
              "      <th>2032</th>\n",
              "      <th>2033</th>\n",
              "      <th>2034</th>\n",
              "      <th>2035</th>\n",
              "      <th>2036</th>\n",
              "      <th>2037</th>\n",
              "      <th>2038</th>\n",
              "      <th>2039</th>\n",
              "      <th>2040</th>\n",
              "      <th>2041</th>\n",
              "      <th>2042</th>\n",
              "      <th>2043</th>\n",
              "      <th>2044</th>\n",
              "      <th>2045</th>\n",
              "      <th>2046</th>\n",
              "      <th>2047</th>\n",
              "    </tr>\n",
              "  </thead>\n",
              "  <tbody>\n",
              "    <tr>\n",
              "      <th>0</th>\n",
              "      <td>M_G_Mostrando_Amarillos_0_double_box1.jpg</td>\n",
              "      <td>218</td>\n",
              "      <td>461</td>\n",
              "      <td>464</td>\n",
              "      <td>715</td>\n",
              "      <td>M</td>\n",
              "      <td>G</td>\n",
              "      <td>train</td>\n",
              "      <td>243</td>\n",
              "      <td>251</td>\n",
              "      <td>60993</td>\n",
              "      <td>si</td>\n",
              "      <td>Amarillo</td>\n",
              "      <td>0.740974</td>\n",
              "      <td>1.066019</td>\n",
              "      <td>0.132695</td>\n",
              "      <td>0.224892</td>\n",
              "      <td>0.140456</td>\n",
              "      <td>0.129134</td>\n",
              "      <td>0.201447</td>\n",
              "      <td>1.076733</td>\n",
              "      <td>0.461108</td>\n",
              "      <td>0.299800</td>\n",
              "      <td>0.457940</td>\n",
              "      <td>0.201904</td>\n",
              "      <td>0.569677</td>\n",
              "      <td>0.737381</td>\n",
              "      <td>0.480929</td>\n",
              "      <td>0.200076</td>\n",
              "      <td>0.018410</td>\n",
              "      <td>0.674050</td>\n",
              "      <td>0.028826</td>\n",
              "      <td>0.005310</td>\n",
              "      <td>0.128693</td>\n",
              "      <td>0.592353</td>\n",
              "      <td>0.138541</td>\n",
              "      <td>0.141684</td>\n",
              "      <td>0.363294</td>\n",
              "      <td>0.264674</td>\n",
              "      <td>0.519292</td>\n",
              "      <td>...</td>\n",
              "      <td>0.463567</td>\n",
              "      <td>0.091676</td>\n",
              "      <td>0.300955</td>\n",
              "      <td>0.696112</td>\n",
              "      <td>2.409413</td>\n",
              "      <td>0.536980</td>\n",
              "      <td>0.102273</td>\n",
              "      <td>0.157441</td>\n",
              "      <td>0.165093</td>\n",
              "      <td>1.067619</td>\n",
              "      <td>0.751934</td>\n",
              "      <td>0.231443</td>\n",
              "      <td>0.487437</td>\n",
              "      <td>0.446320</td>\n",
              "      <td>0.822407</td>\n",
              "      <td>0.527523</td>\n",
              "      <td>0.217110</td>\n",
              "      <td>0.489194</td>\n",
              "      <td>1.535306</td>\n",
              "      <td>0.521390</td>\n",
              "      <td>0.599480</td>\n",
              "      <td>0.201182</td>\n",
              "      <td>0.391337</td>\n",
              "      <td>0.040206</td>\n",
              "      <td>1.347440</td>\n",
              "      <td>0.448389</td>\n",
              "      <td>0.462778</td>\n",
              "      <td>0.590751</td>\n",
              "      <td>0.877142</td>\n",
              "      <td>0.009986</td>\n",
              "      <td>0.939221</td>\n",
              "      <td>0.859877</td>\n",
              "      <td>0.981910</td>\n",
              "      <td>0.356366</td>\n",
              "      <td>1.748501</td>\n",
              "      <td>0.288037</td>\n",
              "      <td>0.079172</td>\n",
              "      <td>0.266234</td>\n",
              "      <td>0.078312</td>\n",
              "      <td>0.421612</td>\n",
              "    </tr>\n",
              "    <tr>\n",
              "      <th>1</th>\n",
              "      <td>M_G_Mostrando_Amarillos_0_double_box2.jpg</td>\n",
              "      <td>617</td>\n",
              "      <td>865</td>\n",
              "      <td>432</td>\n",
              "      <td>598</td>\n",
              "      <td>M</td>\n",
              "      <td>G</td>\n",
              "      <td>train</td>\n",
              "      <td>248</td>\n",
              "      <td>166</td>\n",
              "      <td>41168</td>\n",
              "      <td>si</td>\n",
              "      <td>Amarillo</td>\n",
              "      <td>1.621832</td>\n",
              "      <td>0.208859</td>\n",
              "      <td>0.627041</td>\n",
              "      <td>0.061717</td>\n",
              "      <td>0.052486</td>\n",
              "      <td>0.064176</td>\n",
              "      <td>0.479256</td>\n",
              "      <td>1.068516</td>\n",
              "      <td>0.509059</td>\n",
              "      <td>0.207385</td>\n",
              "      <td>0.218195</td>\n",
              "      <td>0.169190</td>\n",
              "      <td>0.695486</td>\n",
              "      <td>0.237641</td>\n",
              "      <td>0.146711</td>\n",
              "      <td>0.126334</td>\n",
              "      <td>0.029900</td>\n",
              "      <td>0.148363</td>\n",
              "      <td>0.126833</td>\n",
              "      <td>0.181351</td>\n",
              "      <td>0.044585</td>\n",
              "      <td>0.447270</td>\n",
              "      <td>0.134360</td>\n",
              "      <td>0.113650</td>\n",
              "      <td>1.153900</td>\n",
              "      <td>0.653832</td>\n",
              "      <td>0.041024</td>\n",
              "      <td>...</td>\n",
              "      <td>0.816892</td>\n",
              "      <td>0.027489</td>\n",
              "      <td>0.183116</td>\n",
              "      <td>0.626535</td>\n",
              "      <td>1.734605</td>\n",
              "      <td>0.672962</td>\n",
              "      <td>0.030057</td>\n",
              "      <td>0.101685</td>\n",
              "      <td>0.295544</td>\n",
              "      <td>0.392251</td>\n",
              "      <td>0.874054</td>\n",
              "      <td>0.105285</td>\n",
              "      <td>0.110713</td>\n",
              "      <td>0.421417</td>\n",
              "      <td>1.335695</td>\n",
              "      <td>0.500971</td>\n",
              "      <td>1.139208</td>\n",
              "      <td>0.110803</td>\n",
              "      <td>0.850265</td>\n",
              "      <td>0.618181</td>\n",
              "      <td>0.077352</td>\n",
              "      <td>0.376629</td>\n",
              "      <td>0.319234</td>\n",
              "      <td>0.783792</td>\n",
              "      <td>0.427963</td>\n",
              "      <td>0.133063</td>\n",
              "      <td>0.064981</td>\n",
              "      <td>0.017857</td>\n",
              "      <td>0.320706</td>\n",
              "      <td>0.219192</td>\n",
              "      <td>1.199712</td>\n",
              "      <td>0.808466</td>\n",
              "      <td>0.491182</td>\n",
              "      <td>0.356616</td>\n",
              "      <td>0.812572</td>\n",
              "      <td>0.481357</td>\n",
              "      <td>0.071471</td>\n",
              "      <td>0.572322</td>\n",
              "      <td>0.052072</td>\n",
              "      <td>0.213453</td>\n",
              "    </tr>\n",
              "    <tr>\n",
              "      <th>2</th>\n",
              "      <td>M_G_Mostrando_Amarillos_105_double_box1.jpg</td>\n",
              "      <td>875</td>\n",
              "      <td>1169</td>\n",
              "      <td>321</td>\n",
              "      <td>450</td>\n",
              "      <td>M</td>\n",
              "      <td>G</td>\n",
              "      <td>train</td>\n",
              "      <td>294</td>\n",
              "      <td>129</td>\n",
              "      <td>37926</td>\n",
              "      <td>si</td>\n",
              "      <td>Amarillo</td>\n",
              "      <td>0.777015</td>\n",
              "      <td>0.350298</td>\n",
              "      <td>0.523675</td>\n",
              "      <td>0.141681</td>\n",
              "      <td>0.008227</td>\n",
              "      <td>0.364888</td>\n",
              "      <td>0.559975</td>\n",
              "      <td>1.060057</td>\n",
              "      <td>0.648008</td>\n",
              "      <td>0.075809</td>\n",
              "      <td>0.419526</td>\n",
              "      <td>0.200864</td>\n",
              "      <td>0.553840</td>\n",
              "      <td>0.182195</td>\n",
              "      <td>0.244877</td>\n",
              "      <td>0.038389</td>\n",
              "      <td>0.046786</td>\n",
              "      <td>0.020999</td>\n",
              "      <td>0.281995</td>\n",
              "      <td>0.016088</td>\n",
              "      <td>0.135179</td>\n",
              "      <td>0.635030</td>\n",
              "      <td>0.276898</td>\n",
              "      <td>0.014077</td>\n",
              "      <td>0.613297</td>\n",
              "      <td>0.622520</td>\n",
              "      <td>0.117482</td>\n",
              "      <td>...</td>\n",
              "      <td>0.250315</td>\n",
              "      <td>0.025067</td>\n",
              "      <td>0.150927</td>\n",
              "      <td>0.604435</td>\n",
              "      <td>1.067641</td>\n",
              "      <td>0.847809</td>\n",
              "      <td>0.220889</td>\n",
              "      <td>0.298962</td>\n",
              "      <td>0.535717</td>\n",
              "      <td>0.566534</td>\n",
              "      <td>0.531686</td>\n",
              "      <td>0.208911</td>\n",
              "      <td>0.254966</td>\n",
              "      <td>0.229268</td>\n",
              "      <td>1.809620</td>\n",
              "      <td>0.362365</td>\n",
              "      <td>0.468568</td>\n",
              "      <td>0.055350</td>\n",
              "      <td>1.388036</td>\n",
              "      <td>0.884211</td>\n",
              "      <td>0.340101</td>\n",
              "      <td>0.305252</td>\n",
              "      <td>0.343156</td>\n",
              "      <td>1.061346</td>\n",
              "      <td>1.043128</td>\n",
              "      <td>0.004126</td>\n",
              "      <td>0.033861</td>\n",
              "      <td>0.020319</td>\n",
              "      <td>0.621639</td>\n",
              "      <td>0.040598</td>\n",
              "      <td>0.916142</td>\n",
              "      <td>0.246840</td>\n",
              "      <td>0.688755</td>\n",
              "      <td>0.101427</td>\n",
              "      <td>0.917090</td>\n",
              "      <td>0.407893</td>\n",
              "      <td>0.343683</td>\n",
              "      <td>0.428996</td>\n",
              "      <td>0.080831</td>\n",
              "      <td>0.005678</td>\n",
              "    </tr>\n",
              "    <tr>\n",
              "      <th>3</th>\n",
              "      <td>M_G_Mostrando_Amarillos_105_double_box2.jpg</td>\n",
              "      <td>502</td>\n",
              "      <td>758</td>\n",
              "      <td>145</td>\n",
              "      <td>307</td>\n",
              "      <td>M</td>\n",
              "      <td>G</td>\n",
              "      <td>train</td>\n",
              "      <td>256</td>\n",
              "      <td>162</td>\n",
              "      <td>41472</td>\n",
              "      <td>si</td>\n",
              "      <td>Amarillo</td>\n",
              "      <td>0.206803</td>\n",
              "      <td>0.032262</td>\n",
              "      <td>0.783582</td>\n",
              "      <td>0.104788</td>\n",
              "      <td>0.198923</td>\n",
              "      <td>0.229943</td>\n",
              "      <td>0.102975</td>\n",
              "      <td>1.872409</td>\n",
              "      <td>0.646370</td>\n",
              "      <td>0.369061</td>\n",
              "      <td>0.323460</td>\n",
              "      <td>0.136720</td>\n",
              "      <td>0.515654</td>\n",
              "      <td>0.139382</td>\n",
              "      <td>0.084579</td>\n",
              "      <td>0.205710</td>\n",
              "      <td>0.007865</td>\n",
              "      <td>0.329643</td>\n",
              "      <td>0.279838</td>\n",
              "      <td>0.096330</td>\n",
              "      <td>0.003207</td>\n",
              "      <td>0.161915</td>\n",
              "      <td>0.546153</td>\n",
              "      <td>0.034820</td>\n",
              "      <td>0.178539</td>\n",
              "      <td>0.245108</td>\n",
              "      <td>0.190008</td>\n",
              "      <td>...</td>\n",
              "      <td>0.146642</td>\n",
              "      <td>0.114052</td>\n",
              "      <td>0.005513</td>\n",
              "      <td>0.370992</td>\n",
              "      <td>0.665213</td>\n",
              "      <td>1.402337</td>\n",
              "      <td>0.162487</td>\n",
              "      <td>0.155748</td>\n",
              "      <td>0.241372</td>\n",
              "      <td>0.702011</td>\n",
              "      <td>0.993891</td>\n",
              "      <td>0.174953</td>\n",
              "      <td>0.551115</td>\n",
              "      <td>0.294757</td>\n",
              "      <td>0.660277</td>\n",
              "      <td>0.545881</td>\n",
              "      <td>0.343379</td>\n",
              "      <td>0.348534</td>\n",
              "      <td>0.342936</td>\n",
              "      <td>0.632171</td>\n",
              "      <td>0.079185</td>\n",
              "      <td>0.238604</td>\n",
              "      <td>0.062875</td>\n",
              "      <td>0.798502</td>\n",
              "      <td>1.009929</td>\n",
              "      <td>0.130553</td>\n",
              "      <td>0.003187</td>\n",
              "      <td>0.115578</td>\n",
              "      <td>0.427998</td>\n",
              "      <td>0.110039</td>\n",
              "      <td>0.992854</td>\n",
              "      <td>0.904692</td>\n",
              "      <td>0.112806</td>\n",
              "      <td>0.488674</td>\n",
              "      <td>1.150740</td>\n",
              "      <td>0.275088</td>\n",
              "      <td>0.254404</td>\n",
              "      <td>0.455159</td>\n",
              "      <td>0.012721</td>\n",
              "      <td>0.091329</td>\n",
              "    </tr>\n",
              "    <tr>\n",
              "      <th>4</th>\n",
              "      <td>M_G_Mostrando_Amarillos_114_double_box1.jpg</td>\n",
              "      <td>916</td>\n",
              "      <td>1151</td>\n",
              "      <td>285</td>\n",
              "      <td>463</td>\n",
              "      <td>M</td>\n",
              "      <td>G</td>\n",
              "      <td>train</td>\n",
              "      <td>235</td>\n",
              "      <td>178</td>\n",
              "      <td>41830</td>\n",
              "      <td>si</td>\n",
              "      <td>Amarillo</td>\n",
              "      <td>0.683246</td>\n",
              "      <td>0.319097</td>\n",
              "      <td>0.322898</td>\n",
              "      <td>0.489538</td>\n",
              "      <td>0.152056</td>\n",
              "      <td>0.593756</td>\n",
              "      <td>0.177822</td>\n",
              "      <td>1.093265</td>\n",
              "      <td>0.949665</td>\n",
              "      <td>0.154196</td>\n",
              "      <td>0.645907</td>\n",
              "      <td>0.270926</td>\n",
              "      <td>0.383814</td>\n",
              "      <td>0.204949</td>\n",
              "      <td>0.398145</td>\n",
              "      <td>0.102344</td>\n",
              "      <td>0.060811</td>\n",
              "      <td>0.121956</td>\n",
              "      <td>0.028302</td>\n",
              "      <td>0.120451</td>\n",
              "      <td>0.244606</td>\n",
              "      <td>0.387735</td>\n",
              "      <td>0.251303</td>\n",
              "      <td>0.236359</td>\n",
              "      <td>0.880333</td>\n",
              "      <td>0.466272</td>\n",
              "      <td>0.185311</td>\n",
              "      <td>...</td>\n",
              "      <td>0.652505</td>\n",
              "      <td>0.140662</td>\n",
              "      <td>0.354066</td>\n",
              "      <td>0.571745</td>\n",
              "      <td>2.067905</td>\n",
              "      <td>1.038591</td>\n",
              "      <td>0.099552</td>\n",
              "      <td>0.280820</td>\n",
              "      <td>0.516782</td>\n",
              "      <td>0.820352</td>\n",
              "      <td>0.601326</td>\n",
              "      <td>0.042655</td>\n",
              "      <td>0.119472</td>\n",
              "      <td>0.094523</td>\n",
              "      <td>2.042640</td>\n",
              "      <td>0.790532</td>\n",
              "      <td>0.266744</td>\n",
              "      <td>0.056142</td>\n",
              "      <td>0.620942</td>\n",
              "      <td>0.859705</td>\n",
              "      <td>0.439731</td>\n",
              "      <td>0.290626</td>\n",
              "      <td>0.310608</td>\n",
              "      <td>0.721135</td>\n",
              "      <td>0.988298</td>\n",
              "      <td>0.026431</td>\n",
              "      <td>0.317181</td>\n",
              "      <td>0.199194</td>\n",
              "      <td>0.524838</td>\n",
              "      <td>0.139992</td>\n",
              "      <td>1.304742</td>\n",
              "      <td>0.415517</td>\n",
              "      <td>0.652986</td>\n",
              "      <td>0.141079</td>\n",
              "      <td>1.024287</td>\n",
              "      <td>0.117491</td>\n",
              "      <td>0.007151</td>\n",
              "      <td>0.294575</td>\n",
              "      <td>0.217550</td>\n",
              "      <td>0.240535</td>\n",
              "    </tr>\n",
              "  </tbody>\n",
              "</table>\n",
              "<p>5 rows × 2061 columns</p>\n",
              "</div>"
            ],
            "text/plain": [
              "                                      filename  xmin  ...      2046      2047\n",
              "0    M_G_Mostrando_Amarillos_0_double_box1.jpg   218  ...  0.078312  0.421612\n",
              "1    M_G_Mostrando_Amarillos_0_double_box2.jpg   617  ...  0.052072  0.213453\n",
              "2  M_G_Mostrando_Amarillos_105_double_box1.jpg   875  ...  0.080831  0.005678\n",
              "3  M_G_Mostrando_Amarillos_105_double_box2.jpg   502  ...  0.012721  0.091329\n",
              "4  M_G_Mostrando_Amarillos_114_double_box1.jpg   916  ...  0.217550  0.240535\n",
              "\n",
              "[5 rows x 2061 columns]"
            ]
          },
          "metadata": {
            "tags": []
          },
          "execution_count": 53
        }
      ]
    },
    {
      "cell_type": "markdown",
      "metadata": {
        "id": "kfEK9mhtX59K"
      },
      "source": [
        "Esta tabla fue generada en una notebook anterior [2-Generación_de_fotos_recortadas_y_tabla-Análisis_y_Curación.ipynb](https://colab.research.google.com/drive/1fgB4F4DlBqkCvOatqo3whm4ZTPsiP0L7)"
      ]
    },
    {
      "cell_type": "markdown",
      "metadata": {
        "id": "vOG9GcXoyRHR"
      },
      "source": [
        "##### UTILIZAMOS COMO VARIABLE TARGET LA COLUMNA \"GUANTES\"\n",
        "\n"
      ]
    },
    {
      "cell_type": "code",
      "metadata": {
        "id": "TOMIRDMb0Ka-",
        "outputId": "2a48aafd-ea2f-405f-97c2-0cffef9523fc",
        "colab": {
          "base_uri": "https://localhost:8080/",
          "height": 298
        }
      },
      "source": [
        "csv_wlabels_df.groupby('guantes').filename.count().plot(kind='bar')"
      ],
      "execution_count": 54,
      "outputs": [
        {
          "output_type": "execute_result",
          "data": {
            "text/plain": [
              "<matplotlib.axes._subplots.AxesSubplot at 0x7fc9d4a23e10>"
            ]
          },
          "metadata": {
            "tags": []
          },
          "execution_count": 54
        },
        {
          "output_type": "display_data",
          "data": {
            "image/png": "[encoded data removed]",
            "text/plain": [
              "<Figure size 432x288 with 1 Axes>"
            ]
          },
          "metadata": {
            "tags": [],
            "needs_background": "light"
          }
        }
      ]
    },
    {
      "cell_type": "code",
      "metadata": {
        "id": "N1217n3-5JTe"
      },
      "source": [
        "perc_si = round(csv_wlabels_df[csv_wlabels_df.guantes=='si'].filename.count()/csv_wlabels_df.shape[0]*100, 2)\n",
        "perc_no = round(csv_wlabels_df[csv_wlabels_df.guantes=='no'].filename.count()/csv_wlabels_df.shape[0]*100, 2)"
      ],
      "execution_count": 55,
      "outputs": []
    },
    {
      "cell_type": "code",
      "metadata": {
        "id": "OQ2BCgEs1kP_",
        "outputId": "d6202c21-6f3a-4863-8893-054ac5069725",
        "colab": {
          "base_uri": "https://localhost:8080/",
          "height": 50
        }
      },
      "source": [
        "print(f\"PORCENTAJE SI: {perc_si}%\\nPORCENTAJE NO: {perc_no}%\")"
      ],
      "execution_count": 56,
      "outputs": [
        {
          "output_type": "stream",
          "text": [
            "PORCENTAJE SI: 60.31%\n",
            "PORCENTAJE NO: 39.69%\n"
          ],
          "name": "stdout"
        }
      ]
    },
    {
      "cell_type": "markdown",
      "metadata": {
        "id": "tVaFmeeL572B"
      },
      "source": [
        "##### UTILIZAMOS COMO VARIABLE TARGET LA COLUMNA \"COLOR\""
      ]
    },
    {
      "cell_type": "code",
      "metadata": {
        "id": "LeUkBrX76Awo",
        "outputId": "eb7988f0-a8f5-4a71-f303-bfaeab62f7c2",
        "colab": {
          "base_uri": "https://localhost:8080/",
          "height": 327
        }
      },
      "source": [
        "csv_wlabels_df.groupby('color').filename.count().plot(kind='bar')"
      ],
      "execution_count": 57,
      "outputs": [
        {
          "output_type": "execute_result",
          "data": {
            "text/plain": [
              "<matplotlib.axes._subplots.AxesSubplot at 0x7fc9d495f160>"
            ]
          },
          "metadata": {
            "tags": []
          },
          "execution_count": 57
        },
        {
          "output_type": "display_data",
          "data": {
            "image/png": "[encoded data removed]",
            "text/plain": [
              "<Figure size 432x288 with 1 Axes>"
            ]
          },
          "metadata": {
            "tags": [],
            "needs_background": "light"
          }
        }
      ]
    },
    {
      "cell_type": "code",
      "metadata": {
        "id": "Z3K7QCXL6C7c"
      },
      "source": [
        "perc_ama = round(csv_wlabels_df[csv_wlabels_df.color=='Amarillo'].filename.count()/csv_wlabels_df.shape[0]*100, 2)\n",
        "perc_ver = round(csv_wlabels_df[csv_wlabels_df.color=='Verde'].filename.count()/csv_wlabels_df.shape[0]*100, 2)\n",
        "perc_mano = round(csv_wlabels_df[csv_wlabels_df.color=='mano'].filename.count()/csv_wlabels_df.shape[0]*100, 2)"
      ],
      "execution_count": 58,
      "outputs": []
    },
    {
      "cell_type": "code",
      "metadata": {
        "id": "YuymYCTS6Rk0",
        "outputId": "a559e030-5120-41b0-e007-c1ede7b5acf2",
        "colab": {
          "base_uri": "https://localhost:8080/",
          "height": 66
        }
      },
      "source": [
        "print(f\"PORCENTAJE AMARILLO: {perc_ama}%\\nPORCENTAJE VERDE: {perc_ver}%\\nPORCENTAJE MANO: {perc_mano}%\")"
      ],
      "execution_count": 59,
      "outputs": [
        {
          "output_type": "stream",
          "text": [
            "PORCENTAJE AMARILLO: 30.82%\n",
            "PORCENTAJE VERDE: 29.5%\n",
            "PORCENTAJE MANO: 39.69%\n"
          ],
          "name": "stdout"
        }
      ]
    },
    {
      "cell_type": "code",
      "metadata": {
        "id": "ecYTUCY8Jp5D"
      },
      "source": [
        "le_guantes = LabelEncoder()\n",
        "le_time = LabelEncoder()\n",
        "le_size = LabelEncoder()\n",
        "le_color = LabelEncoder()\n",
        "csv_wlabels_df.guantes = le_guantes.fit_transform(csv_wlabels_df.guantes)\n",
        "csv_wlabels_df.Time = le_time.fit_transform(csv_wlabels_df.Time)\n",
        "csv_wlabels_df.Size = le_size.fit_transform(csv_wlabels_df.Size)\n",
        "csv_wlabels_df.color = le_color.fit_transform(csv_wlabels_df.color)"
      ],
      "execution_count": 63,
      "outputs": []
    },
    {
      "cell_type": "code",
      "metadata": {
        "id": "riS26qrSB4y2",
        "outputId": "b76dbf80-7163-4a29-82d5-6e0036ae7a2c",
        "colab": {
          "base_uri": "https://localhost:8080/",
          "height": 33
        }
      },
      "source": [
        "le_size.classes_"
      ],
      "execution_count": 64,
      "outputs": [
        {
          "output_type": "execute_result",
          "data": {
            "text/plain": [
              "array(['G', 'P'], dtype=object)"
            ]
          },
          "metadata": {
            "tags": []
          },
          "execution_count": 64
        }
      ]
    },
    {
      "cell_type": "code",
      "metadata": {
        "id": "NhRqil4pAK6S"
      },
      "source": [
        "X_P = csv_wlabels_df[csv_wlabels_df.Size == 1]\n",
        "X_G = csv_wlabels_df[csv_wlabels_df.Size == 0]"
      ],
      "execution_count": 78,
      "outputs": []
    },
    {
      "cell_type": "code",
      "metadata": {
        "id": "e0F_ste1NR7k"
      },
      "source": [
        "y_P = X_P.guantes\n",
        "X_P = X_P.drop(['guantes', 'filename', 'Type', 'xmin',\t'xmax',\t'ymin',\t'ymax', 'Hand_Pixel_Width',\t'Hand_Pixel_Height'], axis=1)"
      ],
      "execution_count": 79,
      "outputs": []
    },
    {
      "cell_type": "code",
      "metadata": {
        "id": "51UwC3egAdn3"
      },
      "source": [
        "y_G = X_G.guantes\n",
        "X_G = X_G.drop(['guantes', 'filename', 'Type', 'xmin',\t'xmax',\t'ymin',\t'ymax', 'Hand_Pixel_Width',\t'Hand_Pixel_Height'], axis=1)"
      ],
      "execution_count": 80,
      "outputs": []
    },
    {
      "cell_type": "code",
      "metadata": {
        "id": "8oTDmA-d6bao"
      },
      "source": [
        "best_P = SelectKBest(score_func=chi2, k=5)\n",
        "fitP = best_P.fit(X_P,y_P)"
      ],
      "execution_count": 81,
      "outputs": []
    },
    {
      "cell_type": "code",
      "metadata": {
        "id": "3XhAmRo_CenI"
      },
      "source": [
        "best_G = SelectKBest(score_func=chi2, k=5)\n",
        "fitG = best_G.fit(X_G,y_G)"
      ],
      "execution_count": 82,
      "outputs": []
    },
    {
      "cell_type": "code",
      "metadata": {
        "id": "AIedom_Uwgd3"
      },
      "source": [
        "colsP = best_P.get_support(indices=True)\n",
        "colsG = best_G.get_support(indices=True)"
      ],
      "execution_count": 83,
      "outputs": []
    },
    {
      "cell_type": "code",
      "metadata": {
        "id": "WEMn-6y_w7xM"
      },
      "source": [
        "X_P = X_P.iloc[:,colsP]\n",
        "X_G = X_G.iloc[:,colsG]"
      ],
      "execution_count": 84,
      "outputs": []
    },
    {
      "cell_type": "code",
      "metadata": {
        "id": "RPEbbzRkEotN",
        "outputId": "3c5ea1cd-f878-42a8-fbee-69ff42bfb872",
        "colab": {
          "base_uri": "https://localhost:8080/",
          "height": 391
        }
      },
      "source": [
        "X_P"
      ],
      "execution_count": 85,
      "outputs": [
        {
          "output_type": "execute_result",
          "data": {
            "text/html": [
              "<div>\n",
              "<style scoped>\n",
              "    .dataframe tbody tr th:only-of-type {\n",
              "        vertical-align: middle;\n",
              "    }\n",
              "\n",
              "    .dataframe tbody tr th {\n",
              "        vertical-align: top;\n",
              "    }\n",
              "\n",
              "    .dataframe thead th {\n",
              "        text-align: right;\n",
              "    }\n",
              "</style>\n",
              "<table border=\"1\" class=\"dataframe\">\n",
              "  <thead>\n",
              "    <tr style=\"text-align: right;\">\n",
              "      <th></th>\n",
              "      <th>Area</th>\n",
              "      <th>color</th>\n",
              "      <th>164</th>\n",
              "      <th>518</th>\n",
              "      <th>792</th>\n",
              "    </tr>\n",
              "  </thead>\n",
              "  <tbody>\n",
              "    <tr>\n",
              "      <th>81</th>\n",
              "      <td>3570</td>\n",
              "      <td>0</td>\n",
              "      <td>0.172351</td>\n",
              "      <td>0.496787</td>\n",
              "      <td>0.280303</td>\n",
              "    </tr>\n",
              "    <tr>\n",
              "      <th>82</th>\n",
              "      <td>5307</td>\n",
              "      <td>0</td>\n",
              "      <td>0.285534</td>\n",
              "      <td>1.079900</td>\n",
              "      <td>0.451190</td>\n",
              "    </tr>\n",
              "    <tr>\n",
              "      <th>83</th>\n",
              "      <td>3888</td>\n",
              "      <td>0</td>\n",
              "      <td>0.096481</td>\n",
              "      <td>1.237995</td>\n",
              "      <td>0.704170</td>\n",
              "    </tr>\n",
              "    <tr>\n",
              "      <th>84</th>\n",
              "      <td>1911</td>\n",
              "      <td>0</td>\n",
              "      <td>0.383117</td>\n",
              "      <td>1.009581</td>\n",
              "      <td>1.472560</td>\n",
              "    </tr>\n",
              "    <tr>\n",
              "      <th>85</th>\n",
              "      <td>3224</td>\n",
              "      <td>0</td>\n",
              "      <td>0.310028</td>\n",
              "      <td>0.362154</td>\n",
              "      <td>0.117831</td>\n",
              "    </tr>\n",
              "    <tr>\n",
              "      <th>...</th>\n",
              "      <td>...</td>\n",
              "      <td>...</td>\n",
              "      <td>...</td>\n",
              "      <td>...</td>\n",
              "      <td>...</td>\n",
              "    </tr>\n",
              "    <tr>\n",
              "      <th>1663</th>\n",
              "      <td>2150</td>\n",
              "      <td>1</td>\n",
              "      <td>0.349650</td>\n",
              "      <td>0.784744</td>\n",
              "      <td>0.214106</td>\n",
              "    </tr>\n",
              "    <tr>\n",
              "      <th>1664</th>\n",
              "      <td>2250</td>\n",
              "      <td>1</td>\n",
              "      <td>0.008832</td>\n",
              "      <td>0.021945</td>\n",
              "      <td>0.197598</td>\n",
              "    </tr>\n",
              "    <tr>\n",
              "      <th>1665</th>\n",
              "      <td>2352</td>\n",
              "      <td>1</td>\n",
              "      <td>0.912327</td>\n",
              "      <td>0.852391</td>\n",
              "      <td>0.370464</td>\n",
              "    </tr>\n",
              "    <tr>\n",
              "      <th>1666</th>\n",
              "      <td>1886</td>\n",
              "      <td>1</td>\n",
              "      <td>0.040129</td>\n",
              "      <td>0.544776</td>\n",
              "      <td>0.055697</td>\n",
              "    </tr>\n",
              "    <tr>\n",
              "      <th>1667</th>\n",
              "      <td>2912</td>\n",
              "      <td>1</td>\n",
              "      <td>0.874848</td>\n",
              "      <td>0.649785</td>\n",
              "      <td>0.252502</td>\n",
              "    </tr>\n",
              "  </tbody>\n",
              "</table>\n",
              "<p>796 rows × 5 columns</p>\n",
              "</div>"
            ],
            "text/plain": [
              "      Area  color       164       518       792\n",
              "81    3570      0  0.172351  0.496787  0.280303\n",
              "82    5307      0  0.285534  1.079900  0.451190\n",
              "83    3888      0  0.096481  1.237995  0.704170\n",
              "84    1911      0  0.383117  1.009581  1.472560\n",
              "85    3224      0  0.310028  0.362154  0.117831\n",
              "...    ...    ...       ...       ...       ...\n",
              "1663  2150      1  0.349650  0.784744  0.214106\n",
              "1664  2250      1  0.008832  0.021945  0.197598\n",
              "1665  2352      1  0.912327  0.852391  0.370464\n",
              "1666  1886      1  0.040129  0.544776  0.055697\n",
              "1667  2912      1  0.874848  0.649785  0.252502\n",
              "\n",
              "[796 rows x 5 columns]"
            ]
          },
          "metadata": {
            "tags": []
          },
          "execution_count": 85
        }
      ]
    },
    {
      "cell_type": "code",
      "metadata": {
        "id": "73KBGJBtEz25",
        "outputId": "83e947a1-b87d-4a57-d02b-d8f4c4b6d5b2",
        "colab": {
          "base_uri": "https://localhost:8080/",
          "height": 391
        }
      },
      "source": [
        "X_G"
      ],
      "execution_count": 86,
      "outputs": [
        {
          "output_type": "execute_result",
          "data": {
            "text/html": [
              "<div>\n",
              "<style scoped>\n",
              "    .dataframe tbody tr th:only-of-type {\n",
              "        vertical-align: middle;\n",
              "    }\n",
              "\n",
              "    .dataframe tbody tr th {\n",
              "        vertical-align: top;\n",
              "    }\n",
              "\n",
              "    .dataframe thead th {\n",
              "        text-align: right;\n",
              "    }\n",
              "</style>\n",
              "<table border=\"1\" class=\"dataframe\">\n",
              "  <thead>\n",
              "    <tr style=\"text-align: right;\">\n",
              "      <th></th>\n",
              "      <th>Area</th>\n",
              "      <th>color</th>\n",
              "      <th>164</th>\n",
              "      <th>481</th>\n",
              "      <th>1933</th>\n",
              "    </tr>\n",
              "  </thead>\n",
              "  <tbody>\n",
              "    <tr>\n",
              "      <th>0</th>\n",
              "      <td>60993</td>\n",
              "      <td>0</td>\n",
              "      <td>0.204712</td>\n",
              "      <td>1.021463</td>\n",
              "      <td>1.979691</td>\n",
              "    </tr>\n",
              "    <tr>\n",
              "      <th>1</th>\n",
              "      <td>41168</td>\n",
              "      <td>0</td>\n",
              "      <td>0.120290</td>\n",
              "      <td>0.249811</td>\n",
              "      <td>1.228421</td>\n",
              "    </tr>\n",
              "    <tr>\n",
              "      <th>2</th>\n",
              "      <td>37926</td>\n",
              "      <td>0</td>\n",
              "      <td>0.178590</td>\n",
              "      <td>0.372860</td>\n",
              "      <td>1.497635</td>\n",
              "    </tr>\n",
              "    <tr>\n",
              "      <th>3</th>\n",
              "      <td>41472</td>\n",
              "      <td>0</td>\n",
              "      <td>0.771250</td>\n",
              "      <td>0.566044</td>\n",
              "      <td>1.642392</td>\n",
              "    </tr>\n",
              "    <tr>\n",
              "      <th>4</th>\n",
              "      <td>41830</td>\n",
              "      <td>0</td>\n",
              "      <td>0.111715</td>\n",
              "      <td>1.101845</td>\n",
              "      <td>2.048951</td>\n",
              "    </tr>\n",
              "    <tr>\n",
              "      <th>...</th>\n",
              "      <td>...</td>\n",
              "      <td>...</td>\n",
              "      <td>...</td>\n",
              "      <td>...</td>\n",
              "      <td>...</td>\n",
              "    </tr>\n",
              "    <tr>\n",
              "      <th>1592</th>\n",
              "      <td>55296</td>\n",
              "      <td>1</td>\n",
              "      <td>0.451484</td>\n",
              "      <td>0.024827</td>\n",
              "      <td>2.173993</td>\n",
              "    </tr>\n",
              "    <tr>\n",
              "      <th>1593</th>\n",
              "      <td>28012</td>\n",
              "      <td>1</td>\n",
              "      <td>0.045033</td>\n",
              "      <td>0.095560</td>\n",
              "      <td>0.527625</td>\n",
              "    </tr>\n",
              "    <tr>\n",
              "      <th>1594</th>\n",
              "      <td>19065</td>\n",
              "      <td>1</td>\n",
              "      <td>0.670121</td>\n",
              "      <td>0.242291</td>\n",
              "      <td>0.994287</td>\n",
              "    </tr>\n",
              "    <tr>\n",
              "      <th>1595</th>\n",
              "      <td>46104</td>\n",
              "      <td>1</td>\n",
              "      <td>0.365268</td>\n",
              "      <td>0.361974</td>\n",
              "      <td>1.001351</td>\n",
              "    </tr>\n",
              "    <tr>\n",
              "      <th>1596</th>\n",
              "      <td>33600</td>\n",
              "      <td>1</td>\n",
              "      <td>0.408310</td>\n",
              "      <td>0.379259</td>\n",
              "      <td>1.557918</td>\n",
              "    </tr>\n",
              "  </tbody>\n",
              "</table>\n",
              "<p>872 rows × 5 columns</p>\n",
              "</div>"
            ],
            "text/plain": [
              "       Area  color       164       481      1933\n",
              "0     60993      0  0.204712  1.021463  1.979691\n",
              "1     41168      0  0.120290  0.249811  1.228421\n",
              "2     37926      0  0.178590  0.372860  1.497635\n",
              "3     41472      0  0.771250  0.566044  1.642392\n",
              "4     41830      0  0.111715  1.101845  2.048951\n",
              "...     ...    ...       ...       ...       ...\n",
              "1592  55296      1  0.451484  0.024827  2.173993\n",
              "1593  28012      1  0.045033  0.095560  0.527625\n",
              "1594  19065      1  0.670121  0.242291  0.994287\n",
              "1595  46104      1  0.365268  0.361974  1.001351\n",
              "1596  33600      1  0.408310  0.379259  1.557918\n",
              "\n",
              "[872 rows x 5 columns]"
            ]
          },
          "metadata": {
            "tags": []
          },
          "execution_count": 86
        }
      ]
    },
    {
      "cell_type": "code",
      "metadata": {
        "id": "GJUc0aX-E1UN",
        "outputId": "5c73ac9c-3f11-469a-8927-25e7f3887075",
        "colab": {
          "base_uri": "https://localhost:8080/",
          "height": 455
        }
      },
      "source": [
        "fig = plt.figure(figsize=(14,12))\n",
        "for n, feature in zip(range(1, len(X_P.columns)+1), X_P.columns):\n",
        "    selector = list(X_P.columns == feature)\n",
        "    ax = fig.add_subplot(4,4,n)\n",
        "    ax.scatter(X_P.iloc[:, selector], y_P, facecolor=\"dodgerblue\", edgecolor=\"k\", label=\"datos\")\n",
        "    ax.set_title(feature)\n",
        "\n",
        "plt.tight_layout()\n",
        "plt.show()"
      ],
      "execution_count": 93,
      "outputs": [
        {
          "output_type": "display_data",
          "data": {
            "image/png": "[encoded data removed]",
            "text/plain": [
              "<Figure size 1008x864 with 5 Axes>"
            ]
          },
          "metadata": {
            "tags": [],
            "needs_background": "light"
          }
        }
      ]
    },
    {
      "cell_type": "code",
      "metadata": {
        "id": "mFd-NMNpF6rV"
      },
      "source": [
        ""
      ],
      "execution_count": null,
      "outputs": []
    }
  ]
}