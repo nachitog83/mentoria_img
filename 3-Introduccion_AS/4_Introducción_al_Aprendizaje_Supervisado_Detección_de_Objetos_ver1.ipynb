{
  "nbformat": 4,
  "nbformat_minor": 0,
  "metadata": {
    "kernelspec": {
      "display_name": "Python 3",
      "language": "python",
      "name": "python3"
    },
    "language_info": {
      "codemirror_mode": {
        "name": "ipython",
        "version": 3
      },
      "file_extension": ".py",
      "mimetype": "text/x-python",
      "name": "python",
      "nbconvert_exporter": "python",
      "pygments_lexer": "ipython3",
      "version": "3.7.6"
    },
    "colab": {
      "name": "4-Introducción al Aprendizaje_Supervisado-Detección_de_Objetos.ipynb",
      "provenance": [],
      "collapsed_sections": [],
      "toc_visible": true,
      "include_colab_link": true
    }
  },
  "cells": [
    {
      "cell_type": "markdown",
      "metadata": {
        "id": "view-in-github",
        "colab_type": "text"
      },
      "source": [
        "<a href=\"https://colab.research.google.com/github/nachitog83/mentoria_img/blob/master/3-Introduccion_AS/4_Introducci%C3%B3n_al_Aprendizaje_Supervisado_Detecci%C3%B3n_de_Objetos_ver1.ipynb\" target=\"_parent\"><img src=\"https://colab.research.google.com/assets/colab-badge.svg\" alt=\"Open In Colab\"/></a>"
      ]
    },
    {
      "cell_type": "markdown",
      "metadata": {
        "id": "d_u_OLIYQxHd"
      },
      "source": [
        "\n",
        "<center>\n",
        "<h4>Universidad Nacional de Córdoba - Facultad de Matemática, Astronomía, Física y Computación </h4>\n",
        "<h3>Diplomatura en Ciencia de Datos, Aprendizaje Automático y sus Aplicaciones</h3>\n",
        "<h2>Mentoría: Detección de objetos en imágenes</h2>\n",
        "</center>\n"
      ]
    },
    {
      "cell_type": "markdown",
      "metadata": {
        "id": "2IqCQqvVHvO6"
      },
      "source": [
        "En la siguiente notebook, incorporaremos parte de lo realizado en las entregas de los grupos de estudiantes: \n",
        "\n",
        "* [Grupo 1](https://github.com/Ana1890/Deteccion-de-objetos-en-imagenes) : Ana Rusconi, Ignacio Grosso y  Mariano Lucero\n",
        "\n",
        "* [Grupo 2](https://github.com/leorodriguez/mentoria-diplodatos-grupo2):  Diego Gonzalez, Florencia Caballero, Joel Vivas y Leonardo Rodriguez\n"
      ]
    },
    {
      "cell_type": "markdown",
      "metadata": {
        "id": "57bZf_OMMLdh"
      },
      "source": [
        "<a name=\"aprendizaje_supervisado\"></a>\n",
        "### **Intro Aprendizaje Supervisado**\n",
        "\n",
        "En esta entrega seguiremos utilizando la carpeta [muestra](https://drive.google.com/drive/folders/1_2oDQPL7n8QI_YEUOecAHyabwA9Gmud0?usp=sharing).\n",
        "\n",
        "\n",
        "Repasaremos las técnicas aprendidas en la materia *'Introducción al Aprendizaje Automático'* tales como *regresión lineal y polinomial* con y sin regularización y para clasificación, implementaremos sólo los algoritmos de *Perceptrón, SGD y Árboles de Decisión*.\n"
      ]
    },
    {
      "cell_type": "markdown",
      "metadata": {
        "id": "akFzHcVSYD1M"
      },
      "source": [
        "\n",
        "\n",
        "\n",
        "**Estructura del informe:** \n",
        "\n",
        "Presentar en un archivo jupyter notebook con la resolución detallada de las siguientes consignas:\n",
        "\n",
        "\n",
        "  1- Recordar que en nuestro caso podemos realizar clasificación podemos hacer las dos clases de clasificación, binaria ( guantes: si - no) y multiclase ('mano', 'verde' y 'amarillo'). Por lo cual se pueden descartar aquellas columnas categóricas que no sumen al problema y definir como 'target' nuesta columna de interés.\n",
        "\n",
        "Visualizar la cantidad de datos para cada clase y calcular el porcentaje de las mismas.\n",
        " \n",
        "Separar la base en los conjuntos *P* y *G*. \n",
        "Y sobre cada conjunto, separar en *train* (con el 80 % de los datos y *test* con el 20%)\n",
        "\n",
        "\n",
        " \n",
        "  2- De las variables/características/features numéricas que hayan encontrado en notebooks anteriores, elegir como mucho las 5 mas representativas para:\n",
        "\n",
        "  *   Regresión:\n",
        "\n",
        "     a) Hacer una gráfica que muestre su relación con la variable objetivo. Instanciar una regresión lineal de scikit-learn, y entrenarla usando sólo el atributo seleccionado. Calcular el error cuadrático medio para los conjuntos de entrenamiento y evaluación y grafique el modelo resultante, junto con los puntos de entrenamiento y evaluación. Interpretar el resultado, haciendo algún comentario sobre las cualidades del modelo obtenido.  \n",
        "    \n",
        "     b) Tomar pares de características y considerar una como regresora y la otra como objetivo o variable/característica a predecir y realizar una regresión lineal y varias polinomiales (hasta grado 5) para evaluar el grado del polinomio que mejor se ajusta a las predicciones. \n",
        "    \n",
        "     c) Luego realizar la búsqueda de los mejores hiperparámetros utilizando GridSearchCV en el conjunto Train, con RMSE o análoga como medida de calidad de ajuste.\n",
        "     d) Una vez definidos los hiperparámetros (encontrados en la búsqueda del item anterior. Evaluar el modelo ajustado utilizando el conjunto Test, con la medida (o las medidas) que crea adecuada.\n",
        "\n",
        "\n",
        "  *   Clasificación:\n",
        "   De a pares de características, implementar los algoritmos de Perceptrón, SGD y Árboles de Decisión en el conjunto Train para clasificación binaria: guantes si - guantes no (algoritmos del paquete sklearn). Primero con los hiperparámetros por defecto y luego ir cambiándolos un poco.\n",
        "\n",
        "   Utilizar GridSearchCV para explorar las diferentes combinaciones de hiperparámetros. \n",
        "\n",
        " "
      ]
    },
    {
      "cell_type": "markdown",
      "metadata": {
        "id": "ddLhX1-R-ZHO"
      },
      "source": [
        "Usando como entorno a Colab:"
      ]
    },
    {
      "cell_type": "code",
      "metadata": {
        "id": "eI5MO4Ek-ctR",
        "outputId": "be45d184-62e9-4d3f-97c6-5bafb8d102e6",
        "colab": {
          "base_uri": "https://localhost:8080/",
          "height": 33
        }
      },
      "source": [
        "#vinculamos el Drive\n",
        "from google.colab import drive\n",
        "drive.mount('/content/drive')"
      ],
      "execution_count": null,
      "outputs": [
        {
          "output_type": "stream",
          "text": [
            "Mounted at /content/drive\n"
          ],
          "name": "stdout"
        }
      ]
    },
    {
      "cell_type": "code",
      "metadata": {
        "id": "P78hPxhS-gZS"
      },
      "source": [
        "# librerías necesarias \n",
        "import os\n",
        "from os import path\n",
        "\n",
        "import pandas as pd\n",
        "import numpy as np\n",
        "\n",
        "import matplotlib.pyplot as plt\n",
        "import seaborn as sns\n",
        "\n",
        "#seguimos agregando librerías necesarias:\n",
        "from sklearn import preprocessing\n",
        "from sklearn.model_selection import train_test_split, GridSearchCV\n",
        "from sklearn.linear_model import LinearRegression\n",
        "from sklearn.metrics import accuracy_score, confusion_matrix, mean_squared_error\n",
        "from sklearn.pipeline import Pipeline\n",
        "from sklearn.preprocessing import PolynomialFeatures\n",
        "from sklearn.linear_model import LinearRegression\n",
        "from sklearn.model_selection import cross_val_score\n",
        "from sklearn.metrics import accuracy_score, confusion_matrix, mean_squared_error\n",
        "\n",
        "from sklearn.linear_model import Lasso, Ridge\n",
        "\n",
        "from sklearn.feature_selection import SelectKBest\n",
        "from sklearn.feature_selection import chi2\n",
        "from sklearn.preprocessing import LabelEncoder\n",
        "\n",
        "\n"
      ],
      "execution_count": 37,
      "outputs": []
    },
    {
      "cell_type": "markdown",
      "metadata": {
        "id": "SJMG6JjUwkgc"
      },
      "source": [
        "#### <a name=\"hay_tabla!\"></a>\n",
        "#### **Análisis exploratorio**"
      ]
    },
    {
      "cell_type": "code",
      "metadata": {
        "id": "dPbmNI7s9lF7",
        "outputId": "e28a48be-52fe-4b29-8dc5-f84e7c385091",
        "colab": {
          "base_uri": "https://localhost:8080/",
          "height": 33
        }
      },
      "source": [
        "#nos posicionamos en la carpeta muestra:\n",
        "os.chdir('/content/drive/My Drive/DiploDatos2020/Mentoria/muestra')\n",
        "! ls -d Dataset-*/"
      ],
      "execution_count": null,
      "outputs": [
        {
          "output_type": "stream",
          "text": [
            "Dataset-M/  Dataset-N/\tDataset-T/\n"
          ],
          "name": "stdout"
        }
      ]
    },
    {
      "cell_type": "code",
      "metadata": {
        "id": "dk0d8VNdudFk",
        "outputId": "2955fbcb-9e3c-4169-ca9a-1a1694351f85",
        "colab": {
          "base_uri": "https://localhost:8080/",
          "height": 255
        }
      },
      "source": [
        "#leemos el archivo de la tabla:\n",
        "csv_wlabels_df = pd.read_csv('csv_wlabels_muestra_df_original.csv', index_col=0)\n",
        "print(csv_wlabels_df.shape)\n",
        "csv_wlabels_df.head()"
      ],
      "execution_count": 40,
      "outputs": [
        {
          "output_type": "stream",
          "text": [
            "(1668, 2061)\n"
          ],
          "name": "stdout"
        },
        {
          "output_type": "execute_result",
          "data": {
            "text/html": [
              "<div>\n",
              "<style scoped>\n",
              "    .dataframe tbody tr th:only-of-type {\n",
              "        vertical-align: middle;\n",
              "    }\n",
              "\n",
              "    .dataframe tbody tr th {\n",
              "        vertical-align: top;\n",
              "    }\n",
              "\n",
              "    .dataframe thead th {\n",
              "        text-align: right;\n",
              "    }\n",
              "</style>\n",
              "<table border=\"1\" class=\"dataframe\">\n",
              "  <thead>\n",
              "    <tr style=\"text-align: right;\">\n",
              "      <th></th>\n",
              "      <th>filename</th>\n",
              "      <th>xmin</th>\n",
              "      <th>xmax</th>\n",
              "      <th>ymin</th>\n",
              "      <th>ymax</th>\n",
              "      <th>Time</th>\n",
              "      <th>Size</th>\n",
              "      <th>Type</th>\n",
              "      <th>Hand_Pixel_Width</th>\n",
              "      <th>Hand_Pixel_Height</th>\n",
              "      <th>Area</th>\n",
              "      <th>guantes</th>\n",
              "      <th>color</th>\n",
              "      <th>0</th>\n",
              "      <th>1</th>\n",
              "      <th>2</th>\n",
              "      <th>3</th>\n",
              "      <th>4</th>\n",
              "      <th>5</th>\n",
              "      <th>6</th>\n",
              "      <th>7</th>\n",
              "      <th>8</th>\n",
              "      <th>9</th>\n",
              "      <th>10</th>\n",
              "      <th>11</th>\n",
              "      <th>12</th>\n",
              "      <th>13</th>\n",
              "      <th>14</th>\n",
              "      <th>15</th>\n",
              "      <th>16</th>\n",
              "      <th>17</th>\n",
              "      <th>18</th>\n",
              "      <th>19</th>\n",
              "      <th>20</th>\n",
              "      <th>21</th>\n",
              "      <th>22</th>\n",
              "      <th>23</th>\n",
              "      <th>24</th>\n",
              "      <th>25</th>\n",
              "      <th>26</th>\n",
              "      <th>...</th>\n",
              "      <th>2008</th>\n",
              "      <th>2009</th>\n",
              "      <th>2010</th>\n",
              "      <th>2011</th>\n",
              "      <th>2012</th>\n",
              "      <th>2013</th>\n",
              "      <th>2014</th>\n",
              "      <th>2015</th>\n",
              "      <th>2016</th>\n",
              "      <th>2017</th>\n",
              "      <th>2018</th>\n",
              "      <th>2019</th>\n",
              "      <th>2020</th>\n",
              "      <th>2021</th>\n",
              "      <th>2022</th>\n",
              "      <th>2023</th>\n",
              "      <th>2024</th>\n",
              "      <th>2025</th>\n",
              "      <th>2026</th>\n",
              "      <th>2027</th>\n",
              "      <th>2028</th>\n",
              "      <th>2029</th>\n",
              "      <th>2030</th>\n",
              "      <th>2031</th>\n",
              "      <th>2032</th>\n",
              "      <th>2033</th>\n",
              "      <th>2034</th>\n",
              "      <th>2035</th>\n",
              "      <th>2036</th>\n",
              "      <th>2037</th>\n",
              "      <th>2038</th>\n",
              "      <th>2039</th>\n",
              "      <th>2040</th>\n",
              "      <th>2041</th>\n",
              "      <th>2042</th>\n",
              "      <th>2043</th>\n",
              "      <th>2044</th>\n",
              "      <th>2045</th>\n",
              "      <th>2046</th>\n",
              "      <th>2047</th>\n",
              "    </tr>\n",
              "  </thead>\n",
              "  <tbody>\n",
              "    <tr>\n",
              "      <th>0</th>\n",
              "      <td>M_G_Mostrando_Amarillos_0_double_box1.jpg</td>\n",
              "      <td>218</td>\n",
              "      <td>461</td>\n",
              "      <td>464</td>\n",
              "      <td>715</td>\n",
              "      <td>M</td>\n",
              "      <td>G</td>\n",
              "      <td>train</td>\n",
              "      <td>243</td>\n",
              "      <td>251</td>\n",
              "      <td>60993</td>\n",
              "      <td>si</td>\n",
              "      <td>Amarillo</td>\n",
              "      <td>0.740974</td>\n",
              "      <td>1.066019</td>\n",
              "      <td>0.132695</td>\n",
              "      <td>0.224892</td>\n",
              "      <td>0.140456</td>\n",
              "      <td>0.129134</td>\n",
              "      <td>0.201447</td>\n",
              "      <td>1.076733</td>\n",
              "      <td>0.461108</td>\n",
              "      <td>0.299800</td>\n",
              "      <td>0.457940</td>\n",
              "      <td>0.201904</td>\n",
              "      <td>0.569677</td>\n",
              "      <td>0.737381</td>\n",
              "      <td>0.480929</td>\n",
              "      <td>0.200076</td>\n",
              "      <td>0.018410</td>\n",
              "      <td>0.674050</td>\n",
              "      <td>0.028826</td>\n",
              "      <td>0.005310</td>\n",
              "      <td>0.128693</td>\n",
              "      <td>0.592353</td>\n",
              "      <td>0.138541</td>\n",
              "      <td>0.141684</td>\n",
              "      <td>0.363294</td>\n",
              "      <td>0.264674</td>\n",
              "      <td>0.519292</td>\n",
              "      <td>...</td>\n",
              "      <td>0.463567</td>\n",
              "      <td>0.091676</td>\n",
              "      <td>0.300955</td>\n",
              "      <td>0.696112</td>\n",
              "      <td>2.409413</td>\n",
              "      <td>0.536980</td>\n",
              "      <td>0.102273</td>\n",
              "      <td>0.157441</td>\n",
              "      <td>0.165093</td>\n",
              "      <td>1.067619</td>\n",
              "      <td>0.751934</td>\n",
              "      <td>0.231443</td>\n",
              "      <td>0.487437</td>\n",
              "      <td>0.446320</td>\n",
              "      <td>0.822407</td>\n",
              "      <td>0.527523</td>\n",
              "      <td>0.217110</td>\n",
              "      <td>0.489194</td>\n",
              "      <td>1.535306</td>\n",
              "      <td>0.521390</td>\n",
              "      <td>0.599480</td>\n",
              "      <td>0.201182</td>\n",
              "      <td>0.391337</td>\n",
              "      <td>0.040206</td>\n",
              "      <td>1.347440</td>\n",
              "      <td>0.448389</td>\n",
              "      <td>0.462778</td>\n",
              "      <td>0.590751</td>\n",
              "      <td>0.877142</td>\n",
              "      <td>0.009986</td>\n",
              "      <td>0.939221</td>\n",
              "      <td>0.859877</td>\n",
              "      <td>0.981910</td>\n",
              "      <td>0.356366</td>\n",
              "      <td>1.748501</td>\n",
              "      <td>0.288037</td>\n",
              "      <td>0.079172</td>\n",
              "      <td>0.266234</td>\n",
              "      <td>0.078312</td>\n",
              "      <td>0.421612</td>\n",
              "    </tr>\n",
              "    <tr>\n",
              "      <th>1</th>\n",
              "      <td>M_G_Mostrando_Amarillos_0_double_box2.jpg</td>\n",
              "      <td>617</td>\n",
              "      <td>865</td>\n",
              "      <td>432</td>\n",
              "      <td>598</td>\n",
              "      <td>M</td>\n",
              "      <td>G</td>\n",
              "      <td>train</td>\n",
              "      <td>248</td>\n",
              "      <td>166</td>\n",
              "      <td>41168</td>\n",
              "      <td>si</td>\n",
              "      <td>Amarillo</td>\n",
              "      <td>1.621832</td>\n",
              "      <td>0.208859</td>\n",
              "      <td>0.627041</td>\n",
              "      <td>0.061717</td>\n",
              "      <td>0.052486</td>\n",
              "      <td>0.064176</td>\n",
              "      <td>0.479256</td>\n",
              "      <td>1.068516</td>\n",
              "      <td>0.509059</td>\n",
              "      <td>0.207385</td>\n",
              "      <td>0.218195</td>\n",
              "      <td>0.169190</td>\n",
              "      <td>0.695486</td>\n",
              "      <td>0.237641</td>\n",
              "      <td>0.146711</td>\n",
              "      <td>0.126334</td>\n",
              "      <td>0.029900</td>\n",
              "      <td>0.148363</td>\n",
              "      <td>0.126833</td>\n",
              "      <td>0.181351</td>\n",
              "      <td>0.044585</td>\n",
              "      <td>0.447270</td>\n",
              "      <td>0.134360</td>\n",
              "      <td>0.113650</td>\n",
              "      <td>1.153900</td>\n",
              "      <td>0.653832</td>\n",
              "      <td>0.041024</td>\n",
              "      <td>...</td>\n",
              "      <td>0.816892</td>\n",
              "      <td>0.027489</td>\n",
              "      <td>0.183116</td>\n",
              "      <td>0.626535</td>\n",
              "      <td>1.734605</td>\n",
              "      <td>0.672962</td>\n",
              "      <td>0.030057</td>\n",
              "      <td>0.101685</td>\n",
              "      <td>0.295544</td>\n",
              "      <td>0.392251</td>\n",
              "      <td>0.874054</td>\n",
              "      <td>0.105285</td>\n",
              "      <td>0.110713</td>\n",
              "      <td>0.421417</td>\n",
              "      <td>1.335695</td>\n",
              "      <td>0.500971</td>\n",
              "      <td>1.139208</td>\n",
              "      <td>0.110803</td>\n",
              "      <td>0.850265</td>\n",
              "      <td>0.618181</td>\n",
              "      <td>0.077352</td>\n",
              "      <td>0.376629</td>\n",
              "      <td>0.319234</td>\n",
              "      <td>0.783792</td>\n",
              "      <td>0.427963</td>\n",
              "      <td>0.133063</td>\n",
              "      <td>0.064981</td>\n",
              "      <td>0.017857</td>\n",
              "      <td>0.320706</td>\n",
              "      <td>0.219192</td>\n",
              "      <td>1.199712</td>\n",
              "      <td>0.808466</td>\n",
              "      <td>0.491182</td>\n",
              "      <td>0.356616</td>\n",
              "      <td>0.812572</td>\n",
              "      <td>0.481357</td>\n",
              "      <td>0.071471</td>\n",
              "      <td>0.572322</td>\n",
              "      <td>0.052072</td>\n",
              "      <td>0.213453</td>\n",
              "    </tr>\n",
              "    <tr>\n",
              "      <th>2</th>\n",
              "      <td>M_G_Mostrando_Amarillos_105_double_box1.jpg</td>\n",
              "      <td>875</td>\n",
              "      <td>1169</td>\n",
              "      <td>321</td>\n",
              "      <td>450</td>\n",
              "      <td>M</td>\n",
              "      <td>G</td>\n",
              "      <td>train</td>\n",
              "      <td>294</td>\n",
              "      <td>129</td>\n",
              "      <td>37926</td>\n",
              "      <td>si</td>\n",
              "      <td>Amarillo</td>\n",
              "      <td>0.777015</td>\n",
              "      <td>0.350298</td>\n",
              "      <td>0.523675</td>\n",
              "      <td>0.141681</td>\n",
              "      <td>0.008227</td>\n",
              "      <td>0.364888</td>\n",
              "      <td>0.559975</td>\n",
              "      <td>1.060057</td>\n",
              "      <td>0.648008</td>\n",
              "      <td>0.075809</td>\n",
              "      <td>0.419526</td>\n",
              "      <td>0.200864</td>\n",
              "      <td>0.553840</td>\n",
              "      <td>0.182195</td>\n",
              "      <td>0.244877</td>\n",
              "      <td>0.038389</td>\n",
              "      <td>0.046786</td>\n",
              "      <td>0.020999</td>\n",
              "      <td>0.281995</td>\n",
              "      <td>0.016088</td>\n",
              "      <td>0.135179</td>\n",
              "      <td>0.635030</td>\n",
              "      <td>0.276898</td>\n",
              "      <td>0.014077</td>\n",
              "      <td>0.613297</td>\n",
              "      <td>0.622520</td>\n",
              "      <td>0.117482</td>\n",
              "      <td>...</td>\n",
              "      <td>0.250315</td>\n",
              "      <td>0.025067</td>\n",
              "      <td>0.150927</td>\n",
              "      <td>0.604435</td>\n",
              "      <td>1.067641</td>\n",
              "      <td>0.847809</td>\n",
              "      <td>0.220889</td>\n",
              "      <td>0.298962</td>\n",
              "      <td>0.535717</td>\n",
              "      <td>0.566534</td>\n",
              "      <td>0.531686</td>\n",
              "      <td>0.208911</td>\n",
              "      <td>0.254966</td>\n",
              "      <td>0.229268</td>\n",
              "      <td>1.809620</td>\n",
              "      <td>0.362365</td>\n",
              "      <td>0.468568</td>\n",
              "      <td>0.055350</td>\n",
              "      <td>1.388036</td>\n",
              "      <td>0.884211</td>\n",
              "      <td>0.340101</td>\n",
              "      <td>0.305252</td>\n",
              "      <td>0.343156</td>\n",
              "      <td>1.061346</td>\n",
              "      <td>1.043128</td>\n",
              "      <td>0.004126</td>\n",
              "      <td>0.033861</td>\n",
              "      <td>0.020319</td>\n",
              "      <td>0.621639</td>\n",
              "      <td>0.040598</td>\n",
              "      <td>0.916142</td>\n",
              "      <td>0.246840</td>\n",
              "      <td>0.688755</td>\n",
              "      <td>0.101427</td>\n",
              "      <td>0.917090</td>\n",
              "      <td>0.407893</td>\n",
              "      <td>0.343683</td>\n",
              "      <td>0.428996</td>\n",
              "      <td>0.080831</td>\n",
              "      <td>0.005678</td>\n",
              "    </tr>\n",
              "    <tr>\n",
              "      <th>3</th>\n",
              "      <td>M_G_Mostrando_Amarillos_105_double_box2.jpg</td>\n",
              "      <td>502</td>\n",
              "      <td>758</td>\n",
              "      <td>145</td>\n",
              "      <td>307</td>\n",
              "      <td>M</td>\n",
              "      <td>G</td>\n",
              "      <td>train</td>\n",
              "      <td>256</td>\n",
              "      <td>162</td>\n",
              "      <td>41472</td>\n",
              "      <td>si</td>\n",
              "      <td>Amarillo</td>\n",
              "      <td>0.206803</td>\n",
              "      <td>0.032262</td>\n",
              "      <td>0.783582</td>\n",
              "      <td>0.104788</td>\n",
              "      <td>0.198923</td>\n",
              "      <td>0.229943</td>\n",
              "      <td>0.102975</td>\n",
              "      <td>1.872409</td>\n",
              "      <td>0.646370</td>\n",
              "      <td>0.369061</td>\n",
              "      <td>0.323460</td>\n",
              "      <td>0.136720</td>\n",
              "      <td>0.515654</td>\n",
              "      <td>0.139382</td>\n",
              "      <td>0.084579</td>\n",
              "      <td>0.205710</td>\n",
              "      <td>0.007865</td>\n",
              "      <td>0.329643</td>\n",
              "      <td>0.279838</td>\n",
              "      <td>0.096330</td>\n",
              "      <td>0.003207</td>\n",
              "      <td>0.161915</td>\n",
              "      <td>0.546153</td>\n",
              "      <td>0.034820</td>\n",
              "      <td>0.178539</td>\n",
              "      <td>0.245108</td>\n",
              "      <td>0.190008</td>\n",
              "      <td>...</td>\n",
              "      <td>0.146642</td>\n",
              "      <td>0.114052</td>\n",
              "      <td>0.005513</td>\n",
              "      <td>0.370992</td>\n",
              "      <td>0.665213</td>\n",
              "      <td>1.402337</td>\n",
              "      <td>0.162487</td>\n",
              "      <td>0.155748</td>\n",
              "      <td>0.241372</td>\n",
              "      <td>0.702011</td>\n",
              "      <td>0.993891</td>\n",
              "      <td>0.174953</td>\n",
              "      <td>0.551115</td>\n",
              "      <td>0.294757</td>\n",
              "      <td>0.660277</td>\n",
              "      <td>0.545881</td>\n",
              "      <td>0.343379</td>\n",
              "      <td>0.348534</td>\n",
              "      <td>0.342936</td>\n",
              "      <td>0.632171</td>\n",
              "      <td>0.079185</td>\n",
              "      <td>0.238604</td>\n",
              "      <td>0.062875</td>\n",
              "      <td>0.798502</td>\n",
              "      <td>1.009929</td>\n",
              "      <td>0.130553</td>\n",
              "      <td>0.003187</td>\n",
              "      <td>0.115578</td>\n",
              "      <td>0.427998</td>\n",
              "      <td>0.110039</td>\n",
              "      <td>0.992854</td>\n",
              "      <td>0.904692</td>\n",
              "      <td>0.112806</td>\n",
              "      <td>0.488674</td>\n",
              "      <td>1.150740</td>\n",
              "      <td>0.275088</td>\n",
              "      <td>0.254404</td>\n",
              "      <td>0.455159</td>\n",
              "      <td>0.012721</td>\n",
              "      <td>0.091329</td>\n",
              "    </tr>\n",
              "    <tr>\n",
              "      <th>4</th>\n",
              "      <td>M_G_Mostrando_Amarillos_114_double_box1.jpg</td>\n",
              "      <td>916</td>\n",
              "      <td>1151</td>\n",
              "      <td>285</td>\n",
              "      <td>463</td>\n",
              "      <td>M</td>\n",
              "      <td>G</td>\n",
              "      <td>train</td>\n",
              "      <td>235</td>\n",
              "      <td>178</td>\n",
              "      <td>41830</td>\n",
              "      <td>si</td>\n",
              "      <td>Amarillo</td>\n",
              "      <td>0.683246</td>\n",
              "      <td>0.319097</td>\n",
              "      <td>0.322898</td>\n",
              "      <td>0.489538</td>\n",
              "      <td>0.152056</td>\n",
              "      <td>0.593756</td>\n",
              "      <td>0.177822</td>\n",
              "      <td>1.093265</td>\n",
              "      <td>0.949665</td>\n",
              "      <td>0.154196</td>\n",
              "      <td>0.645907</td>\n",
              "      <td>0.270926</td>\n",
              "      <td>0.383814</td>\n",
              "      <td>0.204949</td>\n",
              "      <td>0.398145</td>\n",
              "      <td>0.102344</td>\n",
              "      <td>0.060811</td>\n",
              "      <td>0.121956</td>\n",
              "      <td>0.028302</td>\n",
              "      <td>0.120451</td>\n",
              "      <td>0.244606</td>\n",
              "      <td>0.387735</td>\n",
              "      <td>0.251303</td>\n",
              "      <td>0.236359</td>\n",
              "      <td>0.880333</td>\n",
              "      <td>0.466272</td>\n",
              "      <td>0.185311</td>\n",
              "      <td>...</td>\n",
              "      <td>0.652505</td>\n",
              "      <td>0.140662</td>\n",
              "      <td>0.354066</td>\n",
              "      <td>0.571745</td>\n",
              "      <td>2.067905</td>\n",
              "      <td>1.038591</td>\n",
              "      <td>0.099552</td>\n",
              "      <td>0.280820</td>\n",
              "      <td>0.516782</td>\n",
              "      <td>0.820352</td>\n",
              "      <td>0.601326</td>\n",
              "      <td>0.042655</td>\n",
              "      <td>0.119472</td>\n",
              "      <td>0.094523</td>\n",
              "      <td>2.042640</td>\n",
              "      <td>0.790532</td>\n",
              "      <td>0.266744</td>\n",
              "      <td>0.056142</td>\n",
              "      <td>0.620942</td>\n",
              "      <td>0.859705</td>\n",
              "      <td>0.439731</td>\n",
              "      <td>0.290626</td>\n",
              "      <td>0.310608</td>\n",
              "      <td>0.721135</td>\n",
              "      <td>0.988298</td>\n",
              "      <td>0.026431</td>\n",
              "      <td>0.317181</td>\n",
              "      <td>0.199194</td>\n",
              "      <td>0.524838</td>\n",
              "      <td>0.139992</td>\n",
              "      <td>1.304742</td>\n",
              "      <td>0.415517</td>\n",
              "      <td>0.652986</td>\n",
              "      <td>0.141079</td>\n",
              "      <td>1.024287</td>\n",
              "      <td>0.117491</td>\n",
              "      <td>0.007151</td>\n",
              "      <td>0.294575</td>\n",
              "      <td>0.217550</td>\n",
              "      <td>0.240535</td>\n",
              "    </tr>\n",
              "  </tbody>\n",
              "</table>\n",
              "<p>5 rows × 2061 columns</p>\n",
              "</div>"
            ],
            "text/plain": [
              "                                      filename  xmin  ...      2046      2047\n",
              "0    M_G_Mostrando_Amarillos_0_double_box1.jpg   218  ...  0.078312  0.421612\n",
              "1    M_G_Mostrando_Amarillos_0_double_box2.jpg   617  ...  0.052072  0.213453\n",
              "2  M_G_Mostrando_Amarillos_105_double_box1.jpg   875  ...  0.080831  0.005678\n",
              "3  M_G_Mostrando_Amarillos_105_double_box2.jpg   502  ...  0.012721  0.091329\n",
              "4  M_G_Mostrando_Amarillos_114_double_box1.jpg   916  ...  0.217550  0.240535\n",
              "\n",
              "[5 rows x 2061 columns]"
            ]
          },
          "metadata": {
            "tags": []
          },
          "execution_count": 40
        }
      ]
    },
    {
      "cell_type": "markdown",
      "metadata": {
        "id": "kfEK9mhtX59K"
      },
      "source": [
        "Esta tabla fue generada en una notebook anterior [2-Generación_de_fotos_recortadas_y_tabla-Análisis_y_Curación.ipynb](https://colab.research.google.com/drive/1fgB4F4DlBqkCvOatqo3whm4ZTPsiP0L7)"
      ]
    },
    {
      "cell_type": "markdown",
      "metadata": {
        "id": "vOG9GcXoyRHR"
      },
      "source": [
        "##### UTILIZAMOS COMO VARIABLE TARGET LA COLUMNA \"GUANTES\"\n",
        "\n"
      ]
    },
    {
      "cell_type": "code",
      "metadata": {
        "id": "TOMIRDMb0Ka-",
        "outputId": "82e236e6-3f0b-463d-f4ab-31db078710ef",
        "colab": {
          "base_uri": "https://localhost:8080/",
          "height": 298
        }
      },
      "source": [
        "csv_wlabels_df.groupby('guantes').filename.count().plot(kind='bar')"
      ],
      "execution_count": 36,
      "outputs": [
        {
          "output_type": "execute_result",
          "data": {
            "text/plain": [
              "<matplotlib.axes._subplots.AxesSubplot at 0x7f7d95e66eb8>"
            ]
          },
          "metadata": {
            "tags": []
          },
          "execution_count": 36
        },
        {
          "output_type": "display_data",
          "data": {
            "image/png": "[encoded data removed]",
            "text/plain": [
              "<Figure size 432x288 with 1 Axes>"
            ]
          },
          "metadata": {
            "tags": [],
            "needs_background": "light"
          }
        }
      ]
    },
    {
      "cell_type": "code",
      "metadata": {
        "id": "N1217n3-5JTe"
      },
      "source": [
        "perc_si = round(csv_wlabels_df[csv_wlabels_df.guantes=='si'].filename.count()/csv_wlabels_df.shape[0]*100, 2)\n",
        "perc_no = round(csv_wlabels_df[csv_wlabels_df.guantes=='no'].filename.count()/csv_wlabels_df.shape[0]*100, 2)"
      ],
      "execution_count": 28,
      "outputs": []
    },
    {
      "cell_type": "code",
      "metadata": {
        "id": "OQ2BCgEs1kP_",
        "outputId": "7ea24ef3-9421-4be9-ca61-557f36cf0a5b",
        "colab": {
          "base_uri": "https://localhost:8080/",
          "height": 50
        }
      },
      "source": [
        "print(f\"PORCENTAJE SI: {perc_si}%\\nPORCENTAJE NO: {perc_no}%\")"
      ],
      "execution_count": 32,
      "outputs": [
        {
          "output_type": "stream",
          "text": [
            "PORCENTAJE SI: 60.31%\n",
            "PORCENTAJE NO: 39.69%\n"
          ],
          "name": "stdout"
        }
      ]
    },
    {
      "cell_type": "markdown",
      "metadata": {
        "id": "tVaFmeeL572B"
      },
      "source": [
        "##### UTILIZAMOS COMO VARIABLE TARGET LA COLUMNA \"COLOR\""
      ]
    },
    {
      "cell_type": "code",
      "metadata": {
        "id": "LeUkBrX76Awo",
        "outputId": "1c39f0e3-1048-40c1-bf79-4c19cb42090a",
        "colab": {
          "base_uri": "https://localhost:8080/",
          "height": 327
        }
      },
      "source": [
        "csv_wlabels_df.groupby('color').filename.count().plot(kind='bar')"
      ],
      "execution_count": 33,
      "outputs": [
        {
          "output_type": "execute_result",
          "data": {
            "text/plain": [
              "<matplotlib.axes._subplots.AxesSubplot at 0x7f7d95ecb470>"
            ]
          },
          "metadata": {
            "tags": []
          },
          "execution_count": 33
        },
        {
          "output_type": "display_data",
          "data": {
            "image/png": "[encoded data removed]",
            "text/plain": [
              "<Figure size 432x288 with 1 Axes>"
            ]
          },
          "metadata": {
            "tags": [],
            "needs_background": "light"
          }
        }
      ]
    },
    {
      "cell_type": "code",
      "metadata": {
        "id": "Z3K7QCXL6C7c"
      },
      "source": [
        "perc_ama = round(csv_wlabels_df[csv_wlabels_df.color=='Amarillo'].filename.count()/csv_wlabels_df.shape[0]*100, 2)\n",
        "perc_ver = round(csv_wlabels_df[csv_wlabels_df.color=='Verde'].filename.count()/csv_wlabels_df.shape[0]*100, 2)\n",
        "perc_mano = round(csv_wlabels_df[csv_wlabels_df.color=='mano'].filename.count()/csv_wlabels_df.shape[0]*100, 2)"
      ],
      "execution_count": 34,
      "outputs": []
    },
    {
      "cell_type": "code",
      "metadata": {
        "id": "YuymYCTS6Rk0",
        "outputId": "e5089a7d-e86a-4856-a9b9-df7bae81d32c",
        "colab": {
          "base_uri": "https://localhost:8080/",
          "height": 66
        }
      },
      "source": [
        "print(f\"PORCENTAJE AMARILLO: {perc_ama}%\\nPORCENTAJE VERDE: {perc_ver}%\\nPORCENTAJE MANO: {perc_mano}%\")"
      ],
      "execution_count": 35,
      "outputs": [
        {
          "output_type": "stream",
          "text": [
            "PORCENTAJE AMARILLO: 30.82%\n",
            "PORCENTAJE VERDE: 29.5%\n",
            "PORCENTAJE MANO: 39.69%\n"
          ],
          "name": "stdout"
        }
      ]
    },
    {
      "cell_type": "code",
      "metadata": {
        "id": "e0F_ste1NR7k"
      },
      "source": [
        "X = csv_wlabels_df.drop(['guantes', 'filename', 'Type', 'xmin',\t'xmax',\t'ymin',\t'ymax', 'Hand_Pixel_Width',\t'Hand_Pixel_Height'], axis=1)\n",
        "y = csv_wlabels_df.guantes"
      ],
      "execution_count": 69,
      "outputs": []
    },
    {
      "cell_type": "code",
      "metadata": {
        "id": "ecYTUCY8Jp5D"
      },
      "source": [
        "le_guantes = LabelEncoder()\n",
        "le_time = LabelEncoder()\n",
        "le_size = LabelEncoder()\n",
        "le_color = LabelEncoder()\n",
        "y = le_guantes.fit_transform(y)\n",
        "X.Time = le_time.fit_transform(X.Time)\n",
        "X.Size = le_size.fit_transform(X.Size)\n",
        "X.color = le_color.fit_transform(X.color)"
      ],
      "execution_count": 70,
      "outputs": []
    },
    {
      "cell_type": "code",
      "metadata": {
        "id": "8oTDmA-d6bao"
      },
      "source": [
        "bestfeatures = SelectKBest(score_func=chi2, k=5)\n",
        "X_new = bestfeatures.fit_transform(X,y)"
      ],
      "execution_count": 77,
      "outputs": []
    },
    {
      "cell_type": "code",
      "metadata": {
        "id": "-DfBEbxhNz0H",
        "outputId": "d6d6745f-5c9e-4b05-a686-3005169cd988",
        "colab": {
          "base_uri": "https://localhost:8080/",
          "height": 33
        }
      },
      "source": [
        "fit.pvalues_.shape"
      ],
      "execution_count": 78,
      "outputs": [
        {
          "output_type": "execute_result",
          "data": {
            "text/plain": [
              "(2052,)"
            ]
          },
          "metadata": {
            "tags": []
          },
          "execution_count": 78
        }
      ]
    },
    {
      "cell_type": "code",
      "metadata": {
        "id": "WlACRURZwOU_",
        "outputId": "ee4fbb8f-b573-4c67-e3c9-d8c7357e320b",
        "colab": {
          "base_uri": "https://localhost:8080/",
          "height": 228
        }
      },
      "source": [
        "X_new"
      ],
      "execution_count": 79,
      "outputs": [
        {
          "output_type": "execute_result",
          "data": {
            "text/plain": [
              "array([[6.09930000e+04, 0.00000000e+00, 2.04711705e-01, 1.54757226e+00,\n",
              "        1.97969091e+00],\n",
              "       [4.11680000e+04, 0.00000000e+00, 1.20289877e-01, 1.72304845e+00,\n",
              "        1.22842145e+00],\n",
              "       [3.79260000e+04, 0.00000000e+00, 1.78589702e-01, 1.62082171e+00,\n",
              "        1.49763501e+00],\n",
              "       ...,\n",
              "       [2.35200000e+03, 1.00000000e+00, 9.12326574e-01, 1.12494743e+00,\n",
              "        4.95998263e-01],\n",
              "       [1.88600000e+03, 1.00000000e+00, 4.01294604e-02, 3.97146702e-01,\n",
              "        5.40536702e-01],\n",
              "       [2.91200000e+03, 1.00000000e+00, 8.74847829e-01, 7.19380617e-01,\n",
              "        4.24502611e-01]])"
            ]
          },
          "metadata": {
            "tags": []
          },
          "execution_count": 79
        }
      ]
    },
    {
      "cell_type": "code",
      "metadata": {
        "id": "AIedom_Uwgd3",
        "outputId": "a0365252-1f7f-4853-d940-b2721d4a7afb",
        "colab": {
          "base_uri": "https://localhost:8080/",
          "height": 33
        }
      },
      "source": [
        "bestfeatures.get_support(indices=True)"
      ],
      "execution_count": 82,
      "outputs": [
        {
          "output_type": "execute_result",
          "data": {
            "text/plain": [
              "array([   2,    3,  168,  436, 1937])"
            ]
          },
          "metadata": {
            "tags": []
          },
          "execution_count": 82
        }
      ]
    },
    {
      "cell_type": "code",
      "metadata": {
        "id": "WEMn-6y_w7xM",
        "outputId": "bcb69a56-e29e-430b-c829-c9cd69de1c57",
        "colab": {
          "base_uri": "https://localhost:8080/",
          "height": 391
        }
      },
      "source": [
        "X.iloc[:,bestfeatures.get_support(indices=True)]"
      ],
      "execution_count": 84,
      "outputs": [
        {
          "output_type": "execute_result",
          "data": {
            "text/html": [
              "<div>\n",
              "<style scoped>\n",
              "    .dataframe tbody tr th:only-of-type {\n",
              "        vertical-align: middle;\n",
              "    }\n",
              "\n",
              "    .dataframe tbody tr th {\n",
              "        vertical-align: top;\n",
              "    }\n",
              "\n",
              "    .dataframe thead th {\n",
              "        text-align: right;\n",
              "    }\n",
              "</style>\n",
              "<table border=\"1\" class=\"dataframe\">\n",
              "  <thead>\n",
              "    <tr style=\"text-align: right;\">\n",
              "      <th></th>\n",
              "      <th>Area</th>\n",
              "      <th>color</th>\n",
              "      <th>164</th>\n",
              "      <th>432</th>\n",
              "      <th>1933</th>\n",
              "    </tr>\n",
              "  </thead>\n",
              "  <tbody>\n",
              "    <tr>\n",
              "      <th>0</th>\n",
              "      <td>60993</td>\n",
              "      <td>0</td>\n",
              "      <td>0.204712</td>\n",
              "      <td>1.547572</td>\n",
              "      <td>1.979691</td>\n",
              "    </tr>\n",
              "    <tr>\n",
              "      <th>1</th>\n",
              "      <td>41168</td>\n",
              "      <td>0</td>\n",
              "      <td>0.120290</td>\n",
              "      <td>1.723048</td>\n",
              "      <td>1.228421</td>\n",
              "    </tr>\n",
              "    <tr>\n",
              "      <th>2</th>\n",
              "      <td>37926</td>\n",
              "      <td>0</td>\n",
              "      <td>0.178590</td>\n",
              "      <td>1.620822</td>\n",
              "      <td>1.497635</td>\n",
              "    </tr>\n",
              "    <tr>\n",
              "      <th>3</th>\n",
              "      <td>41472</td>\n",
              "      <td>0</td>\n",
              "      <td>0.771250</td>\n",
              "      <td>1.245009</td>\n",
              "      <td>1.642392</td>\n",
              "    </tr>\n",
              "    <tr>\n",
              "      <th>4</th>\n",
              "      <td>41830</td>\n",
              "      <td>0</td>\n",
              "      <td>0.111715</td>\n",
              "      <td>1.781608</td>\n",
              "      <td>2.048951</td>\n",
              "    </tr>\n",
              "    <tr>\n",
              "      <th>...</th>\n",
              "      <td>...</td>\n",
              "      <td>...</td>\n",
              "      <td>...</td>\n",
              "      <td>...</td>\n",
              "      <td>...</td>\n",
              "    </tr>\n",
              "    <tr>\n",
              "      <th>1663</th>\n",
              "      <td>2150</td>\n",
              "      <td>1</td>\n",
              "      <td>0.349650</td>\n",
              "      <td>0.278671</td>\n",
              "      <td>0.476923</td>\n",
              "    </tr>\n",
              "    <tr>\n",
              "      <th>1664</th>\n",
              "      <td>2250</td>\n",
              "      <td>1</td>\n",
              "      <td>0.008832</td>\n",
              "      <td>0.228128</td>\n",
              "      <td>0.326978</td>\n",
              "    </tr>\n",
              "    <tr>\n",
              "      <th>1665</th>\n",
              "      <td>2352</td>\n",
              "      <td>1</td>\n",
              "      <td>0.912327</td>\n",
              "      <td>1.124947</td>\n",
              "      <td>0.495998</td>\n",
              "    </tr>\n",
              "    <tr>\n",
              "      <th>1666</th>\n",
              "      <td>1886</td>\n",
              "      <td>1</td>\n",
              "      <td>0.040129</td>\n",
              "      <td>0.397147</td>\n",
              "      <td>0.540537</td>\n",
              "    </tr>\n",
              "    <tr>\n",
              "      <th>1667</th>\n",
              "      <td>2912</td>\n",
              "      <td>1</td>\n",
              "      <td>0.874848</td>\n",
              "      <td>0.719381</td>\n",
              "      <td>0.424503</td>\n",
              "    </tr>\n",
              "  </tbody>\n",
              "</table>\n",
              "<p>1668 rows × 5 columns</p>\n",
              "</div>"
            ],
            "text/plain": [
              "       Area  color       164       432      1933\n",
              "0     60993      0  0.204712  1.547572  1.979691\n",
              "1     41168      0  0.120290  1.723048  1.228421\n",
              "2     37926      0  0.178590  1.620822  1.497635\n",
              "3     41472      0  0.771250  1.245009  1.642392\n",
              "4     41830      0  0.111715  1.781608  2.048951\n",
              "...     ...    ...       ...       ...       ...\n",
              "1663   2150      1  0.349650  0.278671  0.476923\n",
              "1664   2250      1  0.008832  0.228128  0.326978\n",
              "1665   2352      1  0.912327  1.124947  0.495998\n",
              "1666   1886      1  0.040129  0.397147  0.540537\n",
              "1667   2912      1  0.874848  0.719381  0.424503\n",
              "\n",
              "[1668 rows x 5 columns]"
            ]
          },
          "metadata": {
            "tags": []
          },
          "execution_count": 84
        }
      ]
    },
    {
      "cell_type": "code",
      "metadata": {
        "id": "-anl_VzdKLIz"
      },
      "source": [
        "dfscores = pd.DataFrame(fit.scores_)\n",
        "dfpvalues = pd.DataFrame(fit.pvalues_)\n",
        "dfcolumns = pd.DataFrame(X.columns)\n",
        "featureScores = pd.concat([dfcolumns,dfscores, dfpvalues], axis=1)\n",
        "featureScores.columns = ['Specs','Score', 'P-Value']  #naming the dataframe column"
      ],
      "execution_count": 73,
      "outputs": []
    },
    {
      "cell_type": "code",
      "metadata": {
        "id": "pm0UletVODhk"
      },
      "source": [
        "score_ranked = featureScores.nlargest(5,'Score')\n",
        "pvalue_ranked = featureScores.nsmallest(5, 'P-Value')"
      ],
      "execution_count": 74,
      "outputs": []
    },
    {
      "cell_type": "code",
      "metadata": {
        "id": "2jIMzQjvOFbH",
        "outputId": "8114537f-0dfd-4111-966b-c950eecab590",
        "colab": {
          "base_uri": "https://localhost:8080/",
          "height": 191
        }
      },
      "source": [
        "pvalue_ranked"
      ],
      "execution_count": 75,
      "outputs": [
        {
          "output_type": "execute_result",
          "data": {
            "text/html": [
              "<div>\n",
              "<style scoped>\n",
              "    .dataframe tbody tr th:only-of-type {\n",
              "        vertical-align: middle;\n",
              "    }\n",
              "\n",
              "    .dataframe tbody tr th {\n",
              "        vertical-align: top;\n",
              "    }\n",
              "\n",
              "    .dataframe thead th {\n",
              "        text-align: right;\n",
              "    }\n",
              "</style>\n",
              "<table border=\"1\" class=\"dataframe\">\n",
              "  <thead>\n",
              "    <tr style=\"text-align: right;\">\n",
              "      <th></th>\n",
              "      <th>Specs</th>\n",
              "      <th>Score</th>\n",
              "      <th>P-Value</th>\n",
              "    </tr>\n",
              "  </thead>\n",
              "  <tbody>\n",
              "    <tr>\n",
              "      <th>2</th>\n",
              "      <td>Area</td>\n",
              "      <td>140509.785359</td>\n",
              "      <td>0.000000e+00</td>\n",
              "    </tr>\n",
              "    <tr>\n",
              "      <th>3</th>\n",
              "      <td>color</td>\n",
              "      <td>837.204088</td>\n",
              "      <td>4.399966e-184</td>\n",
              "    </tr>\n",
              "    <tr>\n",
              "      <th>168</th>\n",
              "      <td>164</td>\n",
              "      <td>261.288872</td>\n",
              "      <td>8.986185e-59</td>\n",
              "    </tr>\n",
              "    <tr>\n",
              "      <th>436</th>\n",
              "      <td>432</td>\n",
              "      <td>192.756244</td>\n",
              "      <td>7.956548e-44</td>\n",
              "    </tr>\n",
              "    <tr>\n",
              "      <th>1937</th>\n",
              "      <td>1933</td>\n",
              "      <td>190.313739</td>\n",
              "      <td>2.715494e-43</td>\n",
              "    </tr>\n",
              "  </tbody>\n",
              "</table>\n",
              "</div>"
            ],
            "text/plain": [
              "      Specs          Score        P-Value\n",
              "2      Area  140509.785359   0.000000e+00\n",
              "3     color     837.204088  4.399966e-184\n",
              "168     164     261.288872   8.986185e-59\n",
              "436     432     192.756244   7.956548e-44\n",
              "1937   1933     190.313739   2.715494e-43"
            ]
          },
          "metadata": {
            "tags": []
          },
          "execution_count": 75
        }
      ]
    },
    {
      "cell_type": "code",
      "metadata": {
        "id": "PHxbqs3pSHKR",
        "outputId": "8e150ed4-6e03-4a11-bd72-b6aeac2aee6a",
        "colab": {
          "base_uri": "https://localhost:8080/",
          "height": 33
        }
      },
      "source": [
        "pvalue_ranked.Specs.values"
      ],
      "execution_count": 66,
      "outputs": [
        {
          "output_type": "execute_result",
          "data": {
            "text/plain": [
              "array(['Area', 'color', '164', '432', '1933'], dtype=object)"
            ]
          },
          "metadata": {
            "tags": []
          },
          "execution_count": 66
        }
      ]
    },
    {
      "cell_type": "code",
      "metadata": {
        "id": "X_3iyX2nZ3bW"
      },
      "source": [
        "X = X[pvalue_ranked.Specs.values]"
      ],
      "execution_count": 68,
      "outputs": []
    },
    {
      "cell_type": "code",
      "metadata": {
        "id": "AfFJF-heaCBK"
      },
      "source": [
        ""
      ],
      "execution_count": null,
      "outputs": []
    }
  ]
}